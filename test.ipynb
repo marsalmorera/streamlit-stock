{
 "cells": [
  {
   "cell_type": "markdown",
   "metadata": {},
   "source": [
    "<h1 style= \"color:#9370DB;\"> Test </h1>"
   ]
  },
  {
   "cell_type": "code",
   "execution_count": 1,
   "metadata": {},
   "outputs": [
    {
     "name": "stderr",
     "output_type": "stream",
     "text": [
      "/opt/anaconda3/envs/streamlit-stock/lib/python3.12/site-packages/tqdm/auto.py:21: TqdmWarning: IProgress not found. Please update jupyter and ipywidgets. See https://ipywidgets.readthedocs.io/en/stable/user_install.html\n",
      "  from .autonotebook import tqdm as notebook_tqdm\n"
     ]
    }
   ],
   "source": [
    "# 📚 Libraries \n",
    "import kagglehub\n",
    "import pandas as pd\n",
    "import numpy as np\n",
    "import os\n",
    "\n",
    "# New liabraries. \n",
    "import scipy.stats as st\n",
    "\n",
    "# 📊 Visualizations\n",
    "import matplotlib.pyplot as plt\n",
    "import seaborn as sns\n",
    "import plotly.express as px\n",
    "import plotly.graph_objects as g\n",
    "\n"
   ]
  },
  {
   "cell_type": "markdown",
   "metadata": {},
   "source": [
    "<h2 style=\"color: #4C9F70;\"> 01 | Data Extraction </h2>"
   ]
  },
  {
   "cell_type": "code",
   "execution_count": 2,
   "metadata": {},
   "outputs": [],
   "source": [
    "data = pd.read_csv('sp500_stocks.csv')\n",
    "sp = pd.read_csv('sp500_index.csv')\n",
    "annual_returns = pd.read_csv('annual_returns.csv')"
   ]
  },
  {
   "cell_type": "code",
   "execution_count": 3,
   "metadata": {},
   "outputs": [],
   "source": [
    "# Cleaning columns with snake_case \n",
    "data.columns = [col.lower().replace(\" \", \"_\")for col in data.columns] \n",
    "sp.columns = [col.lower().replace(\" \", \"_\")for col in sp.columns] "
   ]
  },
  {
   "cell_type": "code",
   "execution_count": 5,
   "metadata": {},
   "outputs": [],
   "source": [
    "df = pd.read_csv('info_0_250.csv')"
   ]
  },
  {
   "cell_type": "code",
   "execution_count": 6,
   "metadata": {},
   "outputs": [
    {
     "data": {
      "text/html": [
       "<div>\n",
       "<style scoped>\n",
       "    .dataframe tbody tr th:only-of-type {\n",
       "        vertical-align: middle;\n",
       "    }\n",
       "\n",
       "    .dataframe tbody tr th {\n",
       "        vertical-align: top;\n",
       "    }\n",
       "\n",
       "    .dataframe thead th {\n",
       "        text-align: right;\n",
       "    }\n",
       "</style>\n",
       "<table border=\"1\" class=\"dataframe\">\n",
       "  <thead>\n",
       "    <tr style=\"text-align: right;\">\n",
       "      <th></th>\n",
       "      <th>Unnamed: 0</th>\n",
       "      <th>symbol</th>\n",
       "      <th>address1</th>\n",
       "      <th>city</th>\n",
       "      <th>state</th>\n",
       "      <th>zip</th>\n",
       "      <th>country</th>\n",
       "      <th>phone</th>\n",
       "      <th>website</th>\n",
       "      <th>industry</th>\n",
       "      <th>industryKey</th>\n",
       "      <th>industryDisp</th>\n",
       "      <th>sector</th>\n",
       "      <th>sectorKey</th>\n",
       "      <th>sectorDisp</th>\n",
       "      <th>longBusinessSummary</th>\n",
       "      <th>fullTimeEmployees</th>\n",
       "      <th>maxAge</th>\n",
       "    </tr>\n",
       "  </thead>\n",
       "  <tbody>\n",
       "    <tr>\n",
       "      <th>0</th>\n",
       "      <td>0</td>\n",
       "      <td>MMM</td>\n",
       "      <td>3M Center</td>\n",
       "      <td>Saint Paul</td>\n",
       "      <td>MN</td>\n",
       "      <td>55144-1000</td>\n",
       "      <td>United States</td>\n",
       "      <td>651 733 1110</td>\n",
       "      <td>https://www.3m.com</td>\n",
       "      <td>Conglomerates</td>\n",
       "      <td>conglomerates</td>\n",
       "      <td>Conglomerates</td>\n",
       "      <td>Industrials</td>\n",
       "      <td>industrials</td>\n",
       "      <td>Industrials</td>\n",
       "      <td>3M Company provides diversified technology ser...</td>\n",
       "      <td>85000.0</td>\n",
       "      <td>86400</td>\n",
       "    </tr>\n",
       "    <tr>\n",
       "      <th>1</th>\n",
       "      <td>1</td>\n",
       "      <td>AOS</td>\n",
       "      <td>11270 West Park Place</td>\n",
       "      <td>Milwaukee</td>\n",
       "      <td>WI</td>\n",
       "      <td>53224-9508</td>\n",
       "      <td>United States</td>\n",
       "      <td>414 359 4000</td>\n",
       "      <td>https://www.aosmith.com</td>\n",
       "      <td>Specialty Industrial Machinery</td>\n",
       "      <td>specialty-industrial-machinery</td>\n",
       "      <td>Specialty Industrial Machinery</td>\n",
       "      <td>Industrials</td>\n",
       "      <td>industrials</td>\n",
       "      <td>Industrials</td>\n",
       "      <td>A. O. Smith Corporation manufactures and marke...</td>\n",
       "      <td>12000.0</td>\n",
       "      <td>86400</td>\n",
       "    </tr>\n",
       "    <tr>\n",
       "      <th>2</th>\n",
       "      <td>2</td>\n",
       "      <td>ABT</td>\n",
       "      <td>100 Abbott Park Road</td>\n",
       "      <td>North Chicago</td>\n",
       "      <td>IL</td>\n",
       "      <td>60064-6400</td>\n",
       "      <td>United States</td>\n",
       "      <td>224 667 6100</td>\n",
       "      <td>https://www.abbott.com</td>\n",
       "      <td>Medical Devices</td>\n",
       "      <td>medical-devices</td>\n",
       "      <td>Medical Devices</td>\n",
       "      <td>Healthcare</td>\n",
       "      <td>healthcare</td>\n",
       "      <td>Healthcare</td>\n",
       "      <td>Abbott Laboratories, together with its subsidi...</td>\n",
       "      <td>114000.0</td>\n",
       "      <td>86400</td>\n",
       "    </tr>\n",
       "    <tr>\n",
       "      <th>3</th>\n",
       "      <td>3</td>\n",
       "      <td>ABBV</td>\n",
       "      <td>1 North Waukegan Road</td>\n",
       "      <td>North Chicago</td>\n",
       "      <td>IL</td>\n",
       "      <td>60064-6400</td>\n",
       "      <td>United States</td>\n",
       "      <td>847 932 7900</td>\n",
       "      <td>https://www.abbvie.com</td>\n",
       "      <td>Drug Manufacturers - General</td>\n",
       "      <td>drug-manufacturers-general</td>\n",
       "      <td>Drug Manufacturers - General</td>\n",
       "      <td>Healthcare</td>\n",
       "      <td>healthcare</td>\n",
       "      <td>Healthcare</td>\n",
       "      <td>AbbVie Inc. discovers, develops, manufactures,...</td>\n",
       "      <td>50000.0</td>\n",
       "      <td>86400</td>\n",
       "    </tr>\n",
       "    <tr>\n",
       "      <th>4</th>\n",
       "      <td>4</td>\n",
       "      <td>ACN</td>\n",
       "      <td>1 Grand Canal Square</td>\n",
       "      <td>Dublin</td>\n",
       "      <td>NaN</td>\n",
       "      <td>D02 P820</td>\n",
       "      <td>Ireland</td>\n",
       "      <td>353 1 646 2000</td>\n",
       "      <td>https://www.accenture.com</td>\n",
       "      <td>Information Technology Services</td>\n",
       "      <td>information-technology-services</td>\n",
       "      <td>Information Technology Services</td>\n",
       "      <td>Technology</td>\n",
       "      <td>technology</td>\n",
       "      <td>Technology</td>\n",
       "      <td>Accenture plc provides strategy and consulting...</td>\n",
       "      <td>774000.0</td>\n",
       "      <td>86400</td>\n",
       "    </tr>\n",
       "    <tr>\n",
       "      <th>...</th>\n",
       "      <td>...</td>\n",
       "      <td>...</td>\n",
       "      <td>...</td>\n",
       "      <td>...</td>\n",
       "      <td>...</td>\n",
       "      <td>...</td>\n",
       "      <td>...</td>\n",
       "      <td>...</td>\n",
       "      <td>...</td>\n",
       "      <td>...</td>\n",
       "      <td>...</td>\n",
       "      <td>...</td>\n",
       "      <td>...</td>\n",
       "      <td>...</td>\n",
       "      <td>...</td>\n",
       "      <td>...</td>\n",
       "      <td>...</td>\n",
       "      <td>...</td>\n",
       "    </tr>\n",
       "    <tr>\n",
       "      <th>243</th>\n",
       "      <td>243</td>\n",
       "      <td>IDXX</td>\n",
       "      <td>One IDEXX Drive</td>\n",
       "      <td>Westbrook</td>\n",
       "      <td>ME</td>\n",
       "      <td>04092</td>\n",
       "      <td>United States</td>\n",
       "      <td>207 556 0300</td>\n",
       "      <td>https://www.idexx.com</td>\n",
       "      <td>Diagnostics &amp; Research</td>\n",
       "      <td>diagnostics-research</td>\n",
       "      <td>Diagnostics &amp; Research</td>\n",
       "      <td>Healthcare</td>\n",
       "      <td>healthcare</td>\n",
       "      <td>Healthcare</td>\n",
       "      <td>IDEXX Laboratories, Inc. develops, manufacture...</td>\n",
       "      <td>11000.0</td>\n",
       "      <td>86400</td>\n",
       "    </tr>\n",
       "    <tr>\n",
       "      <th>244</th>\n",
       "      <td>244</td>\n",
       "      <td>ITW</td>\n",
       "      <td>155 Harlem Avenue</td>\n",
       "      <td>Glenview</td>\n",
       "      <td>IL</td>\n",
       "      <td>60025</td>\n",
       "      <td>United States</td>\n",
       "      <td>847 724 7500</td>\n",
       "      <td>https://www.itw.com</td>\n",
       "      <td>Specialty Industrial Machinery</td>\n",
       "      <td>specialty-industrial-machinery</td>\n",
       "      <td>Specialty Industrial Machinery</td>\n",
       "      <td>Industrials</td>\n",
       "      <td>industrials</td>\n",
       "      <td>Industrials</td>\n",
       "      <td>Illinois Tool Works Inc. manufactures and sell...</td>\n",
       "      <td>45000.0</td>\n",
       "      <td>86400</td>\n",
       "    </tr>\n",
       "    <tr>\n",
       "      <th>245</th>\n",
       "      <td>245</td>\n",
       "      <td>INCY</td>\n",
       "      <td>1801 Augustine Cut-Off</td>\n",
       "      <td>Wilmington</td>\n",
       "      <td>DE</td>\n",
       "      <td>19803</td>\n",
       "      <td>United States</td>\n",
       "      <td>302 498 6700</td>\n",
       "      <td>https://www.incyte.com</td>\n",
       "      <td>Biotechnology</td>\n",
       "      <td>biotechnology</td>\n",
       "      <td>Biotechnology</td>\n",
       "      <td>Healthcare</td>\n",
       "      <td>healthcare</td>\n",
       "      <td>Healthcare</td>\n",
       "      <td>Incyte Corporation, a biopharmaceutical compan...</td>\n",
       "      <td>2524.0</td>\n",
       "      <td>86400</td>\n",
       "    </tr>\n",
       "    <tr>\n",
       "      <th>246</th>\n",
       "      <td>246</td>\n",
       "      <td>IR</td>\n",
       "      <td>525 Harbour Place Drive</td>\n",
       "      <td>Davidson</td>\n",
       "      <td>NC</td>\n",
       "      <td>28036</td>\n",
       "      <td>United States</td>\n",
       "      <td>704 655 4000</td>\n",
       "      <td>https://www.irco.com</td>\n",
       "      <td>Specialty Industrial Machinery</td>\n",
       "      <td>specialty-industrial-machinery</td>\n",
       "      <td>Specialty Industrial Machinery</td>\n",
       "      <td>Industrials</td>\n",
       "      <td>industrials</td>\n",
       "      <td>Industrials</td>\n",
       "      <td>Ingersoll Rand Inc. provides various mission-c...</td>\n",
       "      <td>18000.0</td>\n",
       "      <td>86400</td>\n",
       "    </tr>\n",
       "    <tr>\n",
       "      <th>247</th>\n",
       "      <td>247</td>\n",
       "      <td>PODD</td>\n",
       "      <td>100 Nagog Park</td>\n",
       "      <td>Acton</td>\n",
       "      <td>MA</td>\n",
       "      <td>01720</td>\n",
       "      <td>United States</td>\n",
       "      <td>978 600 7000</td>\n",
       "      <td>https://www.insulet.com</td>\n",
       "      <td>Medical Devices</td>\n",
       "      <td>medical-devices</td>\n",
       "      <td>Medical Devices</td>\n",
       "      <td>Healthcare</td>\n",
       "      <td>healthcare</td>\n",
       "      <td>Healthcare</td>\n",
       "      <td>Insulet Corporation develops, manufactures, an...</td>\n",
       "      <td>3000.0</td>\n",
       "      <td>86400</td>\n",
       "    </tr>\n",
       "  </tbody>\n",
       "</table>\n",
       "<p>248 rows × 18 columns</p>\n",
       "</div>"
      ],
      "text/plain": [
       "     Unnamed: 0 symbol                 address1           city state  \\\n",
       "0             0    MMM                3M Center     Saint Paul    MN   \n",
       "1             1    AOS    11270 West Park Place      Milwaukee    WI   \n",
       "2             2    ABT     100 Abbott Park Road  North Chicago    IL   \n",
       "3             3   ABBV    1 North Waukegan Road  North Chicago    IL   \n",
       "4             4    ACN     1 Grand Canal Square         Dublin   NaN   \n",
       "..          ...    ...                      ...            ...   ...   \n",
       "243         243   IDXX          One IDEXX Drive      Westbrook    ME   \n",
       "244         244    ITW        155 Harlem Avenue       Glenview    IL   \n",
       "245         245   INCY   1801 Augustine Cut-Off     Wilmington    DE   \n",
       "246         246     IR  525 Harbour Place Drive       Davidson    NC   \n",
       "247         247   PODD           100 Nagog Park          Acton    MA   \n",
       "\n",
       "            zip        country           phone                    website  \\\n",
       "0    55144-1000  United States    651 733 1110         https://www.3m.com   \n",
       "1    53224-9508  United States    414 359 4000    https://www.aosmith.com   \n",
       "2    60064-6400  United States    224 667 6100     https://www.abbott.com   \n",
       "3    60064-6400  United States    847 932 7900     https://www.abbvie.com   \n",
       "4      D02 P820        Ireland  353 1 646 2000  https://www.accenture.com   \n",
       "..          ...            ...             ...                        ...   \n",
       "243       04092  United States    207 556 0300      https://www.idexx.com   \n",
       "244       60025  United States    847 724 7500        https://www.itw.com   \n",
       "245       19803  United States    302 498 6700     https://www.incyte.com   \n",
       "246       28036  United States    704 655 4000       https://www.irco.com   \n",
       "247       01720  United States    978 600 7000    https://www.insulet.com   \n",
       "\n",
       "                            industry                      industryKey  \\\n",
       "0                      Conglomerates                    conglomerates   \n",
       "1     Specialty Industrial Machinery   specialty-industrial-machinery   \n",
       "2                    Medical Devices                  medical-devices   \n",
       "3       Drug Manufacturers - General       drug-manufacturers-general   \n",
       "4    Information Technology Services  information-technology-services   \n",
       "..                               ...                              ...   \n",
       "243           Diagnostics & Research             diagnostics-research   \n",
       "244   Specialty Industrial Machinery   specialty-industrial-machinery   \n",
       "245                    Biotechnology                    biotechnology   \n",
       "246   Specialty Industrial Machinery   specialty-industrial-machinery   \n",
       "247                  Medical Devices                  medical-devices   \n",
       "\n",
       "                        industryDisp       sector    sectorKey   sectorDisp  \\\n",
       "0                      Conglomerates  Industrials  industrials  Industrials   \n",
       "1     Specialty Industrial Machinery  Industrials  industrials  Industrials   \n",
       "2                    Medical Devices   Healthcare   healthcare   Healthcare   \n",
       "3       Drug Manufacturers - General   Healthcare   healthcare   Healthcare   \n",
       "4    Information Technology Services   Technology   technology   Technology   \n",
       "..                               ...          ...          ...          ...   \n",
       "243           Diagnostics & Research   Healthcare   healthcare   Healthcare   \n",
       "244   Specialty Industrial Machinery  Industrials  industrials  Industrials   \n",
       "245                    Biotechnology   Healthcare   healthcare   Healthcare   \n",
       "246   Specialty Industrial Machinery  Industrials  industrials  Industrials   \n",
       "247                  Medical Devices   Healthcare   healthcare   Healthcare   \n",
       "\n",
       "                                   longBusinessSummary  fullTimeEmployees  \\\n",
       "0    3M Company provides diversified technology ser...            85000.0   \n",
       "1    A. O. Smith Corporation manufactures and marke...            12000.0   \n",
       "2    Abbott Laboratories, together with its subsidi...           114000.0   \n",
       "3    AbbVie Inc. discovers, develops, manufactures,...            50000.0   \n",
       "4    Accenture plc provides strategy and consulting...           774000.0   \n",
       "..                                                 ...                ...   \n",
       "243  IDEXX Laboratories, Inc. develops, manufacture...            11000.0   \n",
       "244  Illinois Tool Works Inc. manufactures and sell...            45000.0   \n",
       "245  Incyte Corporation, a biopharmaceutical compan...             2524.0   \n",
       "246  Ingersoll Rand Inc. provides various mission-c...            18000.0   \n",
       "247  Insulet Corporation develops, manufactures, an...             3000.0   \n",
       "\n",
       "     maxAge  \n",
       "0     86400  \n",
       "1     86400  \n",
       "2     86400  \n",
       "3     86400  \n",
       "4     86400  \n",
       "..      ...  \n",
       "243   86400  \n",
       "244   86400  \n",
       "245   86400  \n",
       "246   86400  \n",
       "247   86400  \n",
       "\n",
       "[248 rows x 18 columns]"
      ]
     },
     "execution_count": 6,
     "metadata": {},
     "output_type": "execute_result"
    }
   ],
   "source": [
    "df"
   ]
  },
  {
   "cell_type": "markdown",
   "metadata": {},
   "source": [
    "<h3 style=\"color: #4682B4;\">1.1 | Exploring the Data </h3>"
   ]
  },
  {
   "cell_type": "code",
   "execution_count": null,
   "metadata": {},
   "outputs": [],
   "source": [
    "data.sample(3)"
   ]
  },
  {
   "cell_type": "code",
   "execution_count": null,
   "metadata": {},
   "outputs": [],
   "source": [
    "df.sample(3)"
   ]
  },
  {
   "cell_type": "code",
   "execution_count": null,
   "metadata": {},
   "outputs": [],
   "source": [
    "sp.sample(3)"
   ]
  },
  {
   "cell_type": "markdown",
   "metadata": {},
   "source": [
    "<h3 style=\"color: #4682B4;\">1.2 | Copies</h3>"
   ]
  },
  {
   "cell_type": "code",
   "execution_count": null,
   "metadata": {},
   "outputs": [],
   "source": [
    "data2 = data.copy()\n",
    "df2 = df.copy()\n",
    "sp2 = sp.copy()"
   ]
  },
  {
   "cell_type": "markdown",
   "metadata": {},
   "source": [
    "<h2 style=\"color: #4C9F70;\"> 02 | Data Cleaning </h2>"
   ]
  },
  {
   "cell_type": "markdown",
   "metadata": {},
   "source": [
    "<h3 style=\"color: #4682B4;\"> 2.1 | Dealing with Data types</h3>"
   ]
  },
  {
   "cell_type": "code",
   "execution_count": null,
   "metadata": {},
   "outputs": [],
   "source": [
    "sp.dtypes"
   ]
  },
  {
   "cell_type": "markdown",
   "metadata": {},
   "source": [
    "<h3 style=\"color: #4682B4;\"> 2.2 | Dealing with NaN values</h3>"
   ]
  },
  {
   "cell_type": "code",
   "execution_count": null,
   "metadata": {},
   "outputs": [],
   "source": [
    "df.isna().sum()"
   ]
  },
  {
   "cell_type": "code",
   "execution_count": null,
   "metadata": {},
   "outputs": [],
   "source": [
    "sp.isna().sum()"
   ]
  },
  {
   "cell_type": "code",
   "execution_count": null,
   "metadata": {},
   "outputs": [],
   "source": [
    "data.isna().sum()"
   ]
  },
  {
   "cell_type": "code",
   "execution_count": null,
   "metadata": {},
   "outputs": [],
   "source": [
    "# Delete NaN.\n",
    "data2.dropna(how='any', inplace=True)"
   ]
  },
  {
   "cell_type": "code",
   "execution_count": null,
   "metadata": {},
   "outputs": [],
   "source": [
    "data2.isna().sum()"
   ]
  },
  {
   "cell_type": "code",
   "execution_count": null,
   "metadata": {},
   "outputs": [],
   "source": [
    "# Use this as a reference conunting the same after dropping them that without droping them. \n",
    "data2.symbol.value_counts()"
   ]
  },
  {
   "cell_type": "markdown",
   "metadata": {},
   "source": [
    "<h3 style=\"color: #4682B4;\"> 2.3 | Dealing with Duplicates</h3>"
   ]
  },
  {
   "cell_type": "code",
   "execution_count": null,
   "metadata": {},
   "outputs": [],
   "source": [
    "data2.duplicated().sum()"
   ]
  },
  {
   "cell_type": "code",
   "execution_count": null,
   "metadata": {},
   "outputs": [],
   "source": [
    "df.duplicated().sum()"
   ]
  },
  {
   "cell_type": "code",
   "execution_count": null,
   "metadata": {},
   "outputs": [],
   "source": [
    "sp.duplicated().sum()"
   ]
  },
  {
   "cell_type": "markdown",
   "metadata": {},
   "source": [
    "<h3 style=\"color: #4682B4;\"> 2.4 | Dealing with columns </h3"
   ]
  },
  {
   "cell_type": "code",
   "execution_count": null,
   "metadata": {},
   "outputs": [],
   "source": [
    "data2"
   ]
  },
  {
   "cell_type": "code",
   "execution_count": null,
   "metadata": {},
   "outputs": [],
   "source": [
    "# Delete Columns \n",
    "data2.drop(columns=['high', 'low', 'open','close','volume'], inplace=True)"
   ]
  },
  {
   "cell_type": "code",
   "execution_count": null,
   "metadata": {},
   "outputs": [],
   "source": [
    "data2.rename(columns={'adj_close': 'price'}, inplace=True)\n"
   ]
  },
  {
   "cell_type": "code",
   "execution_count": null,
   "metadata": {},
   "outputs": [],
   "source": [
    "#Create new symbol. \n",
    "sp['symbol'] = 'SP500'\n"
   ]
  },
  {
   "cell_type": "code",
   "execution_count": null,
   "metadata": {},
   "outputs": [],
   "source": [
    "data2"
   ]
  },
  {
   "cell_type": "code",
   "execution_count": null,
   "metadata": {},
   "outputs": [],
   "source": [
    "sp"
   ]
  },
  {
   "cell_type": "code",
   "execution_count": null,
   "metadata": {},
   "outputs": [],
   "source": [
    "sp.rename(columns={'s&p500': 'price'}, inplace=True)\n",
    "cols = ['date', 'symbol', 'price']\n",
    "sp[cols] = sp[cols]\n",
    "sp.head()\n"
   ]
  },
  {
   "cell_type": "code",
   "execution_count": null,
   "metadata": {},
   "outputs": [],
   "source": [
    "cols = ['date', 'symbol', 'price']\n",
    "sp = sp[cols]\n",
    "sp.head()"
   ]
  },
  {
   "cell_type": "code",
   "execution_count": null,
   "metadata": {},
   "outputs": [],
   "source": [
    "sp.columns = ['date', 'symbol', 'price']"
   ]
  },
  {
   "cell_type": "code",
   "execution_count": null,
   "metadata": {},
   "outputs": [],
   "source": [
    "stock_df = pd.concat([data2, sp], axis=0, ignore_index=True)"
   ]
  },
  {
   "cell_type": "code",
   "execution_count": null,
   "metadata": {},
   "outputs": [],
   "source": [
    "stock_df"
   ]
  },
  {
   "cell_type": "code",
   "execution_count": null,
   "metadata": {},
   "outputs": [],
   "source": [
    "# Change to datetime from stocks. \n",
    "stock_df['date'] = pd.to_datetime(stock_df['date'])"
   ]
  },
  {
   "cell_type": "code",
   "execution_count": null,
   "metadata": {},
   "outputs": [],
   "source": [
    "stock_df['year'] = stock_df['date'].dt.year\n",
    "stock_df['month'] = stock_df['date'].dt.month\n",
    "stock_df['day'] = stock_df['date'].dt.day"
   ]
  },
  {
   "cell_type": "code",
   "execution_count": null,
   "metadata": {},
   "outputs": [],
   "source": [
    "# Creating new columns. Which will give us the annual return yearly per each stock & sp500. \n",
    "annual_returns = stock_df.groupby(['symbol', 'year']).apply(lambda group: (group['price'].iloc[-1] / group['price'].iloc[0]) - 1).reset_index(name='annual_return').round(4)"
   ]
  },
  {
   "cell_type": "code",
   "execution_count": null,
   "metadata": {},
   "outputs": [],
   "source": [
    "annual_returns"
   ]
  },
  {
   "cell_type": "code",
   "execution_count": null,
   "metadata": {},
   "outputs": [],
   "source": [
    "annual_returns[annual_returns['symbol'] == \"SP500\"]"
   ]
  },
  {
   "cell_type": "code",
   "execution_count": null,
   "metadata": {},
   "outputs": [],
   "source": [
    "annual_returns.to_csv('annual_returns.csv')"
   ]
  },
  {
   "cell_type": "code",
   "execution_count": null,
   "metadata": {},
   "outputs": [],
   "source": [
    "def annual_return_plot(annual_returns, stock):\n",
    "    # Filter the DataFrame for the selected symbol (stock)\n",
    "    symbol_data = annual_returns[annual_returns[\"symbol\"].isin([stock, 'SP500'])]\n",
    "\n",
    "    # If no data is found for the selected stock, print a warning and exit the function\n",
    "    if symbol_data.empty:\n",
    "        print(f\"⚠️ No data available for this company: '{stock}'\")\n",
    "        return\n",
    "\n",
    "    # Pivot the DataFrame to structure it for plotting: \n",
    "    # Index will be the 'year', columns will be the 'symbol', and values will be the 'annual_return'\n",
    "    df_pivot = symbol_data.pivot(index=\"year\", columns=\"symbol\", values=\"annual_return\")\n",
    "\n",
    "    # Define custom colors for the plot\n",
    "    colors = {'SP500': '#FF0000', stock: '#0000FF'}\n",
    "\n",
    "    # Create the plot\n",
    "    plt.figure(figsize=(12, 6))\n",
    "\n",
    "    # Plot the annual return data for the selected symbol over the years\n",
    "   for i, symbol in enumerate(df_pivot.columns):\n",
    "        plt.plot(df_pivot.index, df_pivot[symbol], marker='o', label=symbol, color=colors[symbol])\n",
    "\n",
    "    # Title and labels for the plot\n",
    "    plt.title(f\"Annual Return Comparison: {stock} vs SP500\", fontsize=14, fontweight='bold', color=\"#800080\")\n",
    "    plt.xlabel(\"Year\", fontsize=12, fontweight='bold', color=\"#C71585\")\n",
    "    plt.ylabel(\"Annual Return (%)\", fontsize=12, fontweight='bold', color=\"#C71585\")\n",
    "    plt.legend(title=\"Symbol\", title_fontsize=12, fontsize=10)\n",
    "    plt.grid(True, linestyle=\"--\", alpha=0.6)\n",
    "\n",
    "    # Show the plot\n",
    "    plt.show()\n"
   ]
  },
  {
   "cell_type": "code",
   "execution_count": null,
   "metadata": {},
   "outputs": [],
   "source": [
    "annual_return_plot(annual_returns, 'AAPL')"
   ]
  },
  {
   "cell_type": "code",
   "execution_count": null,
   "metadata": {},
   "outputs": [],
   "source": [
    "def annual_return_plot (annual_returns, stock):\n",
    "\n",
    "    # Filter the DataFrame for the selected question\n",
    "    symbol = annual_returns[annual_returns[\"symbol\"] == stock]\n",
    "\n",
    "    # If no data is found, print a warning\n",
    "    if trend_df.empty:\n",
    "        print(f\"⚠️ No data available for question: '{question}'\")\n",
    "        return\n",
    "\n",
    "    # Pivot the DataFrame to structure it for plotting\n",
    "    df_pivot = trend_df.pivot(index=\"year\", columns=\"answer\", values=\"percentage\")\n",
    "\n",
    "    # Define custom colors in shades of pink and purple\n",
    "    colors = [\"#FF69B4\", \"#FF1493\", \"#C71585\", \"#800080\", \"#8A2BE2\"]\n",
    "\n",
    "    # Create the plot with custom colors\n",
    "    plt.figure(figsize=(12, 6))\n",
    "\n",
    "    # Plot each age group with the defined colors\n",
    "    for i, answer in enumerate(df_pivot.columns):\n",
    "        plt.plot(df_pivot.index, df_pivot[answer], marker='o', label=answer, color=colors[i % len(colors)])\n",
    "\n",
    "    # Title and labels\n",
    "    plt.title(f\"{question} Distribution Over the Years\", fontsize=14, fontweight='bold', color=\"#800080\")\n",
    "    plt.xlabel(\"Year\", fontsize=12, fontweight='bold', color=\"#C71585\")\n",
    "    plt.ylabel(\"Percentage\", fontsize=12, fontweight='bold', color=\"#C71585\")\n",
    "    plt.legend(title=\"Answer Groups\", title_fontsize=12, fontsize=10)\n",
    "    plt.grid(True, linestyle=\"--\", alpha=0.6)\n",
    "\n",
    "    # Show the plot\n",
    "    plt.show()"
   ]
  },
  {
   "cell_type": "code",
   "execution_count": null,
   "metadata": {},
   "outputs": [],
   "source": [
    "#DOUBLE CHECK HOW WE WILL NEED IT \n",
    "\n",
    "# Change to datetime from stocks. \n",
    "#data2['date'] = pd.to_datetime(data2['date'])\n",
    "# Change to datetime. SP 500. \n",
    "#sp['date'] = pd.to_datetime(sp['date'])\n",
    "\n",
    "#data2['year'] = data2['date'].dt.year\n",
    "#data2['month'] = data2['date'].dt.month\n",
    "#data2['day'] = data2['date'].dt.day\n",
    "#sp['year'] = sp['date'].dt.year\n",
    "#sp['month'] = sp['date'].dt.month\n",
    "#sp['day'] = sp['date'].dt.day"
   ]
  },
  {
   "cell_type": "code",
   "execution_count": null,
   "metadata": {},
   "outputs": [],
   "source": [
    "import matplotlib.pyplot as plt\n",
    "\n",
    "def annual_return_plot(annual_returns, stock='SP500'):\n",
    "    # Filter the DataFrame for both the selected symbol (stock) and SP500\n",
    "    symbols_to_plot = annual_returns[annual_returns[\"symbol\"].isin([stock, 'SP500'])]\n",
    "    \n",
    "    # If no data is found for the selected stock or SP500, print a warning and exit the function\n",
    "    if symbols_to_plot.empty:\n",
    "        print(f\"⚠️ No data available for {stock} or SP500.\")\n",
    "        return\n",
    "    \n",
    "    # Pivot the DataFrame to structure it for plotting: \n",
    "    # Index will be the 'year', columns will be the 'symbol', and values will be the 'annual_return'\n",
    "    df_pivot = symbols_to_plot.pivot(index=\"year\", columns=\"symbol\", values=\"annual_return\")\n",
    "    \n",
    "    # Define custom colors: SP500 will always be red, and the selected stock will be blue\n",
    "    colors = {'SP500': '#FF0000', stock: '#0000FF'}\n",
    "\n",
    "    # Create the plot\n",
    "    plt.figure(figsize=(12, 6))\n",
    "\n",
    "    # Plot the annual return data for the selected symbol and SP500 over the years\n",
    "    for i, symbol in enumerate(df_pivot.columns):\n",
    "        plt.plot(df_pivot.index, df_pivot[symbol], marker='o', label=symbol, color=colors[symbol])\n",
    "\n",
    "    # Title and labels for the plot\n",
    "    plt.title(f\"Annual Return Comparison: {stock} vs SP500\", fontsize=14, fontweight='bold', color=\"#5F9EA0\")\n",
    "    plt.xlabel(\"Year\", fontsize=12, fontweight='bold', color=\"#1E90FF\")\n",
    "    plt.ylabel(\"Annual Return (%)\", fontsize=12, fontweight='bold', color=\"#4682B4\")\n",
    "    plt.legend(title=\"Symbol\", title_fontsize=12, fontsize=10)\n",
    "    plt.grid(True, linestyle=\"--\", alpha=0.6)\n",
    "\n",
    "    # Show the plot\n",
    "    plt.show()\n"
   ]
  },
  {
   "cell_type": "code",
   "execution_count": null,
   "metadata": {},
   "outputs": [],
   "source": [
    "annual_return_plot(annual_returns, 'MSFT')"
   ]
  },
  {
   "cell_type": "code",
   "execution_count": null,
   "metadata": {},
   "outputs": [],
   "source": [
    "# Drop rows where year is between 2010 and 2013 because SP500 for comparison we do have 2014. \n",
    "#data2.drop(data2[(data2['year'] >= 2010) & (data2['year'] <= 2014)].index, inplace=True)\n",
    "# Drop row for sp 500 as we do not have many. \n",
    "# sp.drop(sp[sp['year'] == 2014].index, inplace=True)"
   ]
  },
  {
   "cell_type": "code",
   "execution_count": null,
   "metadata": {},
   "outputs": [],
   "source": [
    "# Creating new columns. Which will give us the annual return yearly per each stock & sp500. \n",
    "annual_returns = data2.groupby(['symbol', 'year']).apply(lambda group: (group['adj_close'].iloc[-1] / group['adj_close'].iloc[0]) - 1).reset_index(name='annual_return').round(4)\n",
    "annual_returns_sp = sp.groupby('year').apply(lambda group: (group['s&p500'].iloc[-1] / group['s&p500'].iloc[0]) - 1).reset_index(name='annual_return').round(4)\n",
    "annual_returns_sp['symbol'] = 'SP500'"
   ]
  },
  {
   "cell_type": "code",
   "execution_count": null,
   "metadata": {},
   "outputs": [],
   "source": [
    "cols = ['symbol', 'year', 'annual_return']\n",
    "annual_returns_sp = annual_returns_sp[cols]"
   ]
  },
  {
   "cell_type": "code",
   "execution_count": null,
   "metadata": {},
   "outputs": [],
   "source": [
    "pivoted_df = annual_returns.pivot(index='symbol', columns='year', values='annual_return')\n",
    "pivoted_sp = annual_returns_sp.pivot(index='symbol',columns='year', values='annual_return')"
   ]
  },
  {
   "cell_type": "code",
   "execution_count": null,
   "metadata": {},
   "outputs": [],
   "source": [
    "# Unification from annual return from each stock adding the sp500. \n",
    "defi = pd.concat([pivoted_df,pivoted_sp], axis=0)\n",
    "definitive = pd.merge (df2, pivoted_df, on='symbol')"
   ]
  },
  {
   "cell_type": "code",
   "execution_count": null,
   "metadata": {},
   "outputs": [],
   "source": [
    "definitive = definitive.rename(columns={2015: 'ar_2015',2016:'ar_2016',2017: 'ar_2017', \n",
    "                                          2018:'ar_2018', 2019: 'ar_2019',2020: 'ar_2020', 2021: 'ar_2021', 2022:'ar_2022', 2023:'ar_2023',2024: 'ar_2024'})"
   ]
  },
  {
   "cell_type": "markdown",
   "metadata": {},
   "source": [
    "<h3 style=\"color: #4682B4;\"> 2.5 | Moving target to the right </h3>"
   ]
  },
  {
   "cell_type": "code",
   "execution_count": null,
   "metadata": {},
   "outputs": [],
   "source": [
    "#Dropping Columns: Exchange, longname, longbusinesssumary. \n",
    "cols = ['symbol', 'shortname','sector','industry',\n",
    "        'marketcap','ebitda', 'revenuegrowth', 'city', 'state', 'country',   \n",
    "        'fulltimeemployees', 'weight', 'ar_2015', 'ar_2016', 'ar_2017', 'ar_2018', 'ar_2019',\n",
    "        'ar_2020', 'ar_2021', 'ar_2022', 'ar_2023', 'ar_2024', 'currentprice']"
   ]
  },
  {
   "cell_type": "code",
   "execution_count": null,
   "metadata": {},
   "outputs": [],
   "source": [
    "definitive = definitive[cols]"
   ]
  },
  {
   "cell_type": "code",
   "execution_count": null,
   "metadata": {},
   "outputs": [],
   "source": [
    "definitive.head(4)"
   ]
  },
  {
   "cell_type": "code",
   "execution_count": null,
   "metadata": {},
   "outputs": [],
   "source": []
  },
  {
   "cell_type": "code",
   "execution_count": null,
   "metadata": {},
   "outputs": [],
   "source": []
  },
  {
   "cell_type": "markdown",
   "metadata": {},
   "source": [
    "# <h2 style=\"color: #4C9F70;\"> 03 | EDA (Exploratory Data Analysis) </h2>"
   ]
  },
  {
   "cell_type": "markdown",
   "metadata": {},
   "source": [
    "<h3 style=\"color: #4682B4;\">3.1 | Descriptive Statistics </h3>"
   ]
  },
  {
   "cell_type": "code",
   "execution_count": null,
   "metadata": {},
   "outputs": [],
   "source": [
    "# Selecting categorical columns. \n",
    "cat = definitive.select_dtypes(exclude='number')\n",
    "cat.head(5)"
   ]
  },
  {
   "cell_type": "code",
   "execution_count": null,
   "metadata": {},
   "outputs": [],
   "source": [
    "# Selecting numerical columns. \n",
    "num = definitive.select_dtypes(include='number')\n",
    "num.head(5)"
   ]
  },
  {
   "cell_type": "code",
   "execution_count": null,
   "metadata": {},
   "outputs": [],
   "source": [
    "definitive.describe()"
   ]
  },
  {
   "cell_type": "code",
   "execution_count": null,
   "metadata": {},
   "outputs": [],
   "source": [
    "definitive['currentprice'].describe()"
   ]
  },
  {
   "cell_type": "markdown",
   "metadata": {},
   "source": [
    "<h3 style=\"color: #4682B4;\"> 3.2 | Univariate & Bivariate Analysis </h3>"
   ]
  },
  {
   "cell_type": "markdown",
   "metadata": {},
   "source": [
    "<h4 style=\"color: #D2691E;\"> 3.2.1 | Categorical Variables </h4>"
   ]
  },
  {
   "cell_type": "code",
   "execution_count": null,
   "metadata": {},
   "outputs": [],
   "source": [
    "frequency_table = cat.sector.value_counts()\n",
    "proportion_table = cat.sector.value_counts(normalize=True)"
   ]
  },
  {
   "cell_type": "code",
   "execution_count": null,
   "metadata": {},
   "outputs": [],
   "source": [
    "frequency_proportion = pd.concat([frequency_table,proportion_table], axis = 1)\n",
    "frequency_proportion.columns = ['absolute_frequency', 'relative_frequency']"
   ]
  },
  {
   "cell_type": "code",
   "execution_count": null,
   "metadata": {},
   "outputs": [],
   "source": [
    "total_absolute = frequency_table.sum()\n",
    "total_relative = proportion_table.sum()\n"
   ]
  },
  {
   "cell_type": "code",
   "execution_count": null,
   "metadata": {},
   "outputs": [],
   "source": [
    "total_row = pd.DataFrame({\n",
    "    'absolute_frequency': [total_absolute],\n",
    "    'relative_frequency': [total_relative]\n",
    "}, index=['Total'])"
   ]
  },
  {
   "cell_type": "code",
   "execution_count": null,
   "metadata": {},
   "outputs": [],
   "source": [
    "df3 = pd.concat([frequency_proportion, total_row])\n",
    "df3"
   ]
  },
  {
   "cell_type": "code",
   "execution_count": null,
   "metadata": {},
   "outputs": [],
   "source": [
    "sns.barplot(\n",
    "    x='sector',\n",
    "    y='absolute_frequency',\n",
    "    data=frequency_proportion,\n",
    "    palette='viridis',\n",
    ")\n",
    "plt.ylabel('Count')\n",
    "plt.xticks(rotation=45, ha='right')\n",
    "plt.show()"
   ]
  },
  {
   "cell_type": "markdown",
   "metadata": {},
   "source": [
    "The frequency table gives the count of each sector, while the proportion table provides the percentage representation of each category in the dataset. This helps to quickly identify dominant and minority categories. Such as:\n",
    "- Technology: 16% \n",
    "- Industrials: 14% \n",
    "- Financial Services: 13% \n",
    "- Healthcare: 12% \n",
    "- Consumer Cyclical: 10% "
   ]
  },
  {
   "cell_type": "markdown",
   "metadata": {},
   "source": [
    "<h4 style=\"color: #D2691E;\"> 3.2.2 | Numerical Variables </h4>"
   ]
  },
  {
   "cell_type": "code",
   "execution_count": null,
   "metadata": {},
   "outputs": [],
   "source": [
    "definitive['currentprice'].describe()"
   ]
  },
  {
   "cell_type": "markdown",
   "metadata": {},
   "source": [
    "**Insights** from Summary Statistics for `currentprice`:\n",
    "\n",
    "- The average (**mean**) sale price of the stock in the dataset is approximately **$230.29**. This represents the central tendency of the prices.\n",
    "\n",
    "- The **median** sale price is **$126.82**. Notably, the median is significantly lower than the mean, suggesting that the distribution of stock prices is skewed towards higher values (positively-skewed).\n",
    "\n",
    "- The **standard deviation**, which measures the variation or spread of prices, is **$521.99**. This large value indicates a high level of variability in stock prices, suggesting that prices are widely dispersed from the mean.\n",
    "\n",
    "- The **minimum** and **maximum** prices are **$8.56** and **$8946.33**, respectively. This extreme range highlights that the dataset includes stocks with both very low and very high prices.\n",
    "\n",
    "- The **interquartile range (IQR)**, representing the middle 50% of the prices, lies between $71.54 (Q1) and $239.19 (Q3). This means that 50% of the stock prices fall within this range, providing a clearer picture of the typical stock price distribution without being influenced by outliers.\n",
    "\n",
    "**Additional Note:**\n",
    "The significant difference between the mean and median, combined with the large standard deviation, suggests the presence of outliers or high-value stocks that push the mean upwards. This highlights the importance of focusing on the IQR for understanding the core stock price range."
   ]
  },
  {
   "cell_type": "code",
   "execution_count": null,
   "metadata": {},
   "outputs": [],
   "source": [
    "definitive.currentprice.skew().round(2)"
   ]
  },
  {
   "cell_type": "code",
   "execution_count": null,
   "metadata": {},
   "outputs": [],
   "source": [
    "\n",
    "definitive.currentprice.kurtosis().round(2)"
   ]
  },
  {
   "cell_type": "code",
   "execution_count": null,
   "metadata": {},
   "outputs": [],
   "source": [
    "d2 = sns.displot(data=definitive, x='currentprice', kde=True, height=6, aspect=1.5, bins=100, binrange=(0, 2100), color='mediumpurple')\n",
    "d2.set(xlabel='Current Price')\n",
    "plt.xlim(0, 2100)"
   ]
  },
  {
   "cell_type": "markdown",
   "metadata": {},
   "source": [
    "- Skewness of `currentprice`: \\(11.81\\)\n",
    "- Kurtosis of `currentprice`: \\(174.88\\)\n",
    "\n",
    "**Insights**:\n",
    "\n",
    "1. **Skewness**: The positive value of skewness 11.81 for the 'currentprice' indicates that the distribution is right-skewed. This means that the tail on the right side (higher prices) is longer than the left side (lower prices). In practical terms, this suggests that there are a significant number of stocks that have higher prices, which are acting as outliers and pulling the mean upwards.\n",
    "  \n",
    "2. **Kurtosis**: The kurtosis value of 174.88 indicates that the 'currentprice' distribution has heavier tails and a sharper peak compared to a normal distribution. This means that there are more outliers (extreme values) in the 'currentprice' than one would expect in a normally distributed set."
   ]
  },
  {
   "cell_type": "code",
   "execution_count": null,
   "metadata": {},
   "outputs": [],
   "source": [
    "sns.boxplot(data=num.currentprice)\n",
    "plt.show()"
   ]
  },
  {
   "cell_type": "code",
   "execution_count": null,
   "metadata": {},
   "outputs": [],
   "source": [
    "higher_price = definitive.sort_values(by='currentprice', ascending=False)\n",
    "higher_price.head(4)"
   ]
  },
  {
   "cell_type": "markdown",
   "metadata": {},
   "source": [
    "The box plot for 'currentprice' reveals 4 outstanding outliers that significantly exceed the upper range of typical values. These outliers are stock prices that are far above the third quartile (Q3), suggesting that while most prices fall within a relatively normal range, there are a few extreme high-value stocks.\n",
    "\n",
    "Outliers are detected as values that lie beyond 1.5 times the interquartile range (IQR) above Q3. These extreme values can impact the overall analysis, particularly the mean and standard deviation, causing them to shift upwards.\n",
    "\n",
    "- NVR, Inc: $8946.33\n",
    "\n",
    "- Booking Holdings Inc.: $5300.34\n",
    "\n",
    "- AutoZone Inc. :$3309.44\n",
    "\n",
    "- Fair Isaac Corporation: $2371.83 \n"
   ]
  },
  {
   "cell_type": "markdown",
   "metadata": {},
   "source": [
    "<h4 style=\"color: #D2691E;\"> 3.2.3 | Numerical vs Categorical Variables </h4>"
   ]
  },
  {
   "cell_type": "code",
   "execution_count": null,
   "metadata": {},
   "outputs": [],
   "source": [
    "# Found out in Kaggle related notebooks. \n",
    "f = {'revenuegrowth':['mean'], 'marketcap':['sum'], 'shortname':['count']}\n",
    "\n",
    "sector_breakdown = definitive.groupby('sector').agg(f)\n",
    "sector_breakdown.columns = sector_breakdown.columns.get_level_values(0)\n",
    "sector_breakdown = sector_breakdown.reset_index()\n",
    "sector_breakdown = sector_breakdown.sort_values('shortname', ascending=False)\n",
    "\n",
    "fig = plt.figure(num=None, figsize=(12, 6), dpi=100, facecolor='w', edgecolor='k')\n",
    "\n",
    "plt.subplot(1, 3, 1)\n",
    "ax1 = sns.barplot(x=\"shortname\", y=\"sector\", data=sector_breakdown, palette=('coolwarm'))\n",
    "ax1.set_xlabel('Number of companies', weight='bold')\n",
    "ax1.set_ylabel('sector', weight = 'bold')\n",
    "ax1.set_title('SECTOR BREAKDOWN\\n', weight='bold').set_fontsize('18')\n",
    "\n",
    "plt.subplot(1, 3, 2)\n",
    "ax2 = sns.barplot(x=\"marketcap\", y=\"sector\", data=sector_breakdown, palette=('Wistia'))\n",
    "ax2.set_xlabel('Total Market Cap', weight='bold')\n",
    "ax2.set_ylabel('')\n",
    "ax2.set_yticks([])\n",
    "\n",
    "plt.subplot(1, 3, 3)\n",
    "ax2 = sns.barplot(x=\"revenuegrowth\", y=\"sector\", data=sector_breakdown, palette=('OrRd_r'))\n",
    "ax2.set_xlabel('Revenue Growth', weight='bold')\n",
    "ax2.set_ylabel('')\n",
    "ax2.set_yticks([])\n",
    "\n",
    "sns.despine()\n",
    "plt.tight_layout();"
   ]
  },
  {
   "cell_type": "code",
   "execution_count": null,
   "metadata": {},
   "outputs": [],
   "source": [
    "#Help from thisp part to display the market cap. \n",
    "pd.set_option('display.float_format', '{:.2f}'.format)"
   ]
  },
  {
   "cell_type": "code",
   "execution_count": null,
   "metadata": {},
   "outputs": [],
   "source": [
    "market_bysector = definitive.groupby(\"sector\")[[\"marketcap\", \"revenuegrowth\"]].mean()\n",
    "market_bysector.reset_index()"
   ]
  },
  {
   "cell_type": "code",
   "execution_count": null,
   "metadata": {},
   "outputs": [],
   "source": [
    "sns.violinplot(data=definitive, x='sector', y='revenuegrowth', palette='viridis')\n",
    "plt.xticks(rotation=45, ha='right')\n",
    "plt.show()"
   ]
  },
  {
   "cell_type": "code",
   "execution_count": null,
   "metadata": {},
   "outputs": [],
   "source": [
    "annual_returns = definitive.groupby('sector')[['ar_2015', 'ar_2016', 'ar_2017','ar_2018', 'ar_2019', 'ar_2020','ar_2021','ar_2022','ar_2023','ar_2024' ]].agg(['mean']).round(4)\n",
    "annual_returns"
   ]
  },
  {
   "cell_type": "code",
   "execution_count": null,
   "metadata": {},
   "outputs": [],
   "source": [
    "plt.figure(figsize=(9, 7)) \n",
    "sns.heatmap(annual_returns, annot=True, cmap=\"BuPu\", fmt=\".3f\")\n",
    "plt.show()"
   ]
  },
  {
   "cell_type": "markdown",
   "metadata": {},
   "source": [
    "<h4 style=\"color: #D2691E;\"> 3.2.4 | Continuous vs Continuous Variables </h4>"
   ]
  },
  {
   "cell_type": "code",
   "execution_count": null,
   "metadata": {},
   "outputs": [],
   "source": [
    "sorted_df = defi.sort_values(by=2024, ascending=False)\n",
    "sorted_df = sorted_df.reset_index()\n",
    "sorted_df.columns.name = None\n",
    "sorted_df.head(3)"
   ]
  },
  {
   "cell_type": "code",
   "execution_count": null,
   "metadata": {},
   "outputs": [],
   "source": [
    "# Sampling with. \n",
    "sample_symbols = ['AMZN','PEP','NKE','SP500']\n",
    "sample_df = sorted_df[sorted_df['symbol'].isin(sample_symbols)]\n",
    "# Sampling with. \n",
    "sample_symbols1 = ['MSFT','PEP','NKE','SP500','JPM','XOM']\n",
    "sample_df1 = sorted_df[sorted_df['symbol'].isin(sample_symbols1)]\n",
    "# Sampling with. \n",
    "sample_symbols2 = ['AAPL','MA','WBA','MAR','PEP','SP500','JPM']\n",
    "sample_df2 = sorted_df[sorted_df['symbol'].isin(sample_symbols2)]"
   ]
  },
  {
   "cell_type": "code",
   "execution_count": null,
   "metadata": {},
   "outputs": [],
   "source": [
    "import matplotlib.pyplot as plt\n",
    "\n",
    "# Plot line graph directly\n",
    "plt.figure(figsize=(16, 9))\n",
    "sampling_df = sample_df.copy()\n",
    "# Iterate over each row (symbol) in the DataFrame\n",
    "for index, row in sampling_df.iterrows():\n",
    "    plt.plot(sampling_df.columns[1:], row[1:], marker='o', label=row['symbol'])\n",
    "\n",
    "# Add titles and labels\n",
    "plt.title(\"Annualized Return across different years\", fontsize=13)\n",
    "plt.ylabel(\"Annualized Return\", fontsize=10)\n",
    "plt.xlabel(\"Year\", fontsize=10)\n",
    "plt.xticks(rotation=45, fontsize=8, ha='right')\n",
    "plt.yticks(fontsize=8)\n",
    "plt.grid(axis='x', linestyle=\"--\", alpha=0.7)\n",
    "plt.legend(title=\"Symbols\", fontsize=8)\n",
    "plt.tight_layout()\n",
    "\n",
    "# Show plot\n",
    "plt.show()\n"
   ]
  },
  {
   "cell_type": "code",
   "execution_count": null,
   "metadata": {},
   "outputs": [],
   "source": [
    "import matplotlib.pyplot as plt\n",
    "\n",
    "# Plot line graph directly\n",
    "plt.figure(figsize=(16, 9))\n",
    "sampling_df = sample_df1.copy()\n",
    "# Iterate over each row (symbol) in the DataFrame\n",
    "for index, row in sampling_df.iterrows():\n",
    "    plt.plot(sampling_df.columns[1:], row[1:], marker='o', label=row['symbol'])\n",
    "\n",
    "# Add titles and labels\n",
    "plt.title(\"Annualized Return from different years\", fontsize=13)\n",
    "plt.ylabel(\"Annualized Return\", fontsize=10)\n",
    "plt.xlabel(\"Year\", fontsize=10)\n",
    "plt.xticks(rotation=45, fontsize=8, ha='right')\n",
    "plt.yticks(fontsize=8)\n",
    "plt.grid(axis='x', linestyle=\"--\", alpha=0.7)\n",
    "plt.legend(title=\"Symbols\", fontsize=8)\n",
    "plt.tight_layout()\n",
    "\n",
    "# Show plot\n",
    "plt.show()\n"
   ]
  },
  {
   "cell_type": "code",
   "execution_count": null,
   "metadata": {},
   "outputs": [],
   "source": [
    "import matplotlib.pyplot as plt\n",
    "\n",
    "# Plot line graph directly\n",
    "plt.figure(figsize=(16, 9))\n",
    "sampling_df = sample_df2.copy()\n",
    "# Iterate over each row (symbol) in the DataFrame\n",
    "for index, row in sampling_df.iterrows():\n",
    "    plt.plot(sampling_df.columns[1:], row[1:], marker='o', label=row['symbol'])\n",
    "\n",
    "# Add titles and labels\n",
    "plt.title(\"Annualized Return from different years\", fontsize=13)\n",
    "plt.ylabel(\"Annualized Return\", fontsize=10)\n",
    "plt.xlabel(\"Year\", fontsize=10)\n",
    "plt.xticks(rotation=45, fontsize=8, ha='right')\n",
    "plt.yticks(fontsize=8)\n",
    "plt.grid(axis='x', linestyle=\"--\", alpha=0.7)\n",
    "plt.legend(title=\"Symbols\", fontsize=8)\n",
    "plt.tight_layout()\n",
    "\n",
    "# Show plot\n",
    "plt.show()"
   ]
  },
  {
   "cell_type": "markdown",
   "metadata": {},
   "source": [
    "<h3 style=\"color: #4682B4;\"> 3.3 | Checking Distributions</h3>"
   ]
  },
  {
   "cell_type": "code",
   "execution_count": null,
   "metadata": {},
   "outputs": [],
   "source": [
    "color = '#9370DB'\n",
    "\n",
    "nrows, ncols = 5, 4 \n",
    "\n",
    "fig, axes = plt.subplots(nrows=nrows, ncols=ncols, figsize=(20, 16))\n",
    "\n",
    "axes = axes.flatten()\n",
    "\n",
    "for i, ax in enumerate(axes):\n",
    "    if i >= len(num.columns):\n",
    "        ax.set_visible(False)  # hide unesed plots\n",
    "        continue\n",
    "    ax.hist(num.iloc[:, i], bins=30, color=color, edgecolor='black')\n",
    "    ax.set_title(num.columns[i])\n",
    "\n",
    "plt.tight_layout()\n",
    "plt.show()"
   ]
  },
  {
   "cell_type": "markdown",
   "metadata": {},
   "source": [
    "<h3 style=\"color: #4682B4;\"> 3.4 | Checking our target distribution</h3>"
   ]
  },
  {
   "cell_type": "code",
   "execution_count": null,
   "metadata": {},
   "outputs": [],
   "source": [
    "# Without the filter 650.000 and taking out the outliers. \n",
    "sns.histplot(definitive[\"currentprice\"], color=color, kde=True);"
   ]
  },
  {
   "cell_type": "markdown",
   "metadata": {},
   "source": [
    "<h3 style=\"color: #4682B4;\">3.5 | Looking for Correlations </h3>"
   ]
  },
  {
   "cell_type": "code",
   "execution_count": null,
   "metadata": {},
   "outputs": [],
   "source": [
    "# Calculating the Pearson correlation coefficient between 'currentprice' and 'revenuegrowth'.\n",
    "definitive['currentprice'].corr(definitive['revenuegrowth'])"
   ]
  },
  {
   "cell_type": "code",
   "execution_count": null,
   "metadata": {},
   "outputs": [],
   "source": [
    "# Calculating the Spearman rank correlation between 'currentprice' and 'revenuegrowth'.\n",
    "definitive['currentprice'].corr(definitive['revenuegrowth'], method='spearman')"
   ]
  },
  {
   "cell_type": "markdown",
   "metadata": {},
   "source": [
    "- Pearson Correlation: \\(0.0423\\)\n",
    "- Spearman Correlation: \\(0.2741\\)\n",
    "\n",
    "**Insights:**\n",
    "\n",
    "- The **Pearson correlation** of \\(0.0423\\) suggests a very weak positive linear relationship between currentprice and revenuegrowth. As revenuegrowth increases, currentprice does not show a strong linear increase.\n",
    "  \n",
    "- The **Spearman correlation** of \\(0.2741\\) indicates a weak positive monotonic relationship. This suggests that while higher revenuegrowth tends to correspond with higher currentprice, the relationship is not strongly linear or constant. \n",
    "\n",
    "The slightly higher value for Spearman correlation suggests that there might be some non-linear aspects to their relationship or the presence of outliers affecting the Pearson correlation."
   ]
  },
  {
   "cell_type": "code",
   "execution_count": null,
   "metadata": {},
   "outputs": [],
   "source": [
    "#pearson \n",
    "num.corrwith(definitive['currentprice']).sort_values(ascending=False)"
   ]
  },
  {
   "cell_type": "code",
   "execution_count": null,
   "metadata": {},
   "outputs": [],
   "source": [
    "#Spearman\n",
    "num.corrwith(df['currentprice'], method='spearman').sort_values(ascending=False)[:5]"
   ]
  },
  {
   "cell_type": "markdown",
   "metadata": {},
   "source": [
    "Variables like `ar_2023`, `marketcap`, `weight`, and `ar_2020` have moderate positive correlations with `currentprice`, suggesting that as these variables increase, the currentprice tends to increase as well, but the relationship is not strong."
   ]
  },
  {
   "cell_type": "code",
   "execution_count": null,
   "metadata": {},
   "outputs": [],
   "source": [
    "num_corr = num.corr()\n",
    "num_corr"
   ]
  },
  {
   "cell_type": "code",
   "execution_count": null,
   "metadata": {},
   "outputs": [],
   "source": [
    "# Correlation Matrix-Heatmap Plot\n",
    "mask = np.zeros_like(num_corr)\n",
    "mask[np.triu_indices_from(mask)] = True \n",
    "f, ax = plt.subplots(figsize=(20, 10))\n",
    "sns.set(font_scale=1.5)\n",
    "\n",
    "ax = sns.heatmap(num_corr, mask=mask, annot=True, annot_kws={\"size\": 12}, linewidths=.5, cmap=\"BuPu\", fmt=\".2f\", ax=ax) # round to 2 decimal places\n",
    "ax.set_title(\"Correlation Heatmap\", fontsize=20) "
   ]
  },
  {
   "cell_type": "markdown",
   "metadata": {},
   "source": [
    "<h3 style=\"color: #4682B4;\">3.6 | Hypothesis Testing </h3>"
   ]
  },
  {
   "cell_type": "markdown",
   "metadata": {},
   "source": [
    "<h4 style=\"color: #D2691E;\"> 3.6.1 | Hypothesis 1 </h4>"
   ]
  },
  {
   "cell_type": "markdown",
   "metadata": {},
   "source": [
    "We will use **one-way ANOVA** to determine if there is a statistically significant difference in **revenue growth** based on the **sector**.\n",
    "\n",
    "#### Define Hypotheses\n",
    "- **Null Hypothesis (H₀)**: There is no significant difference in the mean **revenue growth** between these five different sectors:\n",
    "    - **Technology**\n",
    "    - **Industrials**\n",
    "    - **Finance Services** \n",
    "    - **Healthcare**\n",
    "    - **Consumer Cyclical**\n",
    "- **Alternative Hypothesis (H₁)**: There is a significant difference between these different sectors in the mean **revenue growth**. "
   ]
  },
  {
   "cell_type": "code",
   "execution_count": null,
   "metadata": {},
   "outputs": [],
   "source": [
    "# Extract revenuegrowth by sector.\n",
    "tech_df = definitive[definitive['sector'] == 'Technology']['revenuegrowth']\n",
    "indus_df = definitive[definitive['sector'] == 'Industrials']['revenuegrowth']\n",
    "fin_df = definitive[definitive['sector'] == 'Financial Services']['revenuegrowth']\n",
    "health_df = definitive[definitive['sector'] == 'Healthcare']['revenuegrowth']\n",
    "consumer_df = definitive[definitive['sector'] == 'Consumer Cyclical']['revenuegrowth']"
   ]
  },
  {
   "cell_type": "code",
   "execution_count": null,
   "metadata": {},
   "outputs": [],
   "source": [
    "# Perform One-Way ANOVA\n",
    "f_stat, p_value = st.f_oneway(tech_df, indus_df, fin_df, health_df, consumer_df)\n",
    "print(f\"F-Statistic: {f_stat:.2f}\")\n",
    "print(f\"P-Value: {p_value:.4f}\") \n",
    "print()\n",
    "\n",
    "# Significance level\n",
    "alpha = 0.05\n",
    "\n",
    "# Decision-Making\n",
    "if p_value > alpha:\n",
    "    print(\"Fail to Reject the Null Hypothesis: revenuegrowth has no significant difference between sectors.\")\n",
    "else:\n",
    "    print(\"Reject the Null Hypothesis: There is a significant difference in revenuegrowth between the sectors.\")"
   ]
  },
  {
   "cell_type": "markdown",
   "metadata": {},
   "source": [
    "**Observations** \n",
    "\n",
    "The ANOVA test results indicate that while the mean revenue growth differs across sectors these differences are not statistically significant at the alpha. "
   ]
  },
  {
   "cell_type": "markdown",
   "metadata": {},
   "source": [
    "<h4 style=\"color: #D2691E;\"> 3.6.2 | Hypothesis 2 </h4>"
   ]
  },
  {
   "cell_type": "markdown",
   "metadata": {},
   "source": [
    "**Has price a significant difference depending on the sector?**\n",
    "\n",
    "- Null Hypothesis (H₀): There is **no** significant difference in the mean **price** between different sectors.\n",
    "- Alternative Hypothesis (H₁): There is significant difference in the mean **price** between different sectors."
   ]
  },
  {
   "cell_type": "code",
   "execution_count": null,
   "metadata": {},
   "outputs": [],
   "source": [
    "# Extract currentprice by sector.\n",
    "tech_df2 = definitive[definitive['sector'] == 'Technology']['currentprice']\n",
    "indus_df2 = definitive[definitive['sector'] == 'Industrials']['currentprice']\n",
    "fin_df2 = definitive[definitive['sector'] == 'Financial Services']['currentprice']\n",
    "health_df2 = definitive[definitive['sector'] == 'Healthcare']['currentprice']\n",
    "consumer_df2 = definitive[definitive['sector'] == 'Consumer Cyclical']['currentprice']"
   ]
  },
  {
   "cell_type": "code",
   "execution_count": null,
   "metadata": {},
   "outputs": [],
   "source": [
    "print(tech_df2.mean())\n",
    "print(indus_df2.mean())\n",
    "print(fin_df2.mean())\n",
    "print(health_df2.mean())\n",
    "print(consumer_df2.mean())"
   ]
  },
  {
   "cell_type": "code",
   "execution_count": null,
   "metadata": {},
   "outputs": [],
   "source": [
    "# Perform One-Way ANOVA\n",
    "f_stat, p_value = st.f_oneway(tech_df2, indus_df2, fin_df2, health_df2, consumer_df2)\n",
    "print(f\"F-Statistic: {f_stat:.2f}\")\n",
    "print(f\"P-Value: {p_value:.4f}\") \n",
    "print()\n",
    "\n",
    "# Significance level\n",
    "alpha = 0.05\n",
    "\n",
    "# Decision-Making\n",
    "if p_value > alpha:\n",
    "    print(\"Fail to Reject the Null Hypothesis: Price has no significant difference between sectors.\")\n",
    "else:\n",
    "    print(\"Reject the Null Hypothesis: There is a significant difference in price between the sectors.\")"
   ]
  },
  {
   "cell_type": "markdown",
   "metadata": {},
   "source": [
    "**Observations** \n",
    "\n",
    "The ANOVA test indicates that while the mean current prices differ across the five sectors these differences are not statistically significant. The data doesn't provide strong enough evidence to suggest that sector has a meaningful effect on the differences in current prices. "
   ]
  },
  {
   "cell_type": "code",
   "execution_count": null,
   "metadata": {},
   "outputs": [],
   "source": [
    "definitive"
   ]
  },
  {
   "cell_type": "code",
   "execution_count": null,
   "metadata": {},
   "outputs": [],
   "source": [
    "yahoo_df = pd.read_csv(\"yahoo_api.csv\")"
   ]
  },
  {
   "cell_type": "code",
   "execution_count": null,
   "metadata": {},
   "outputs": [],
   "source": [
    "yahoo_df"
   ]
  },
  {
   "cell_type": "code",
   "execution_count": null,
   "metadata": {},
   "outputs": [],
   "source": [
    "df1 = pd.merge(definitive, yahoo_df, on='symbol')"
   ]
  },
  {
   "cell_type": "code",
   "execution_count": null,
   "metadata": {},
   "outputs": [],
   "source": [
    "# If I run inner join we do have left 178 stocks. \n",
    "df1"
   ]
  },
  {
   "cell_type": "code",
   "execution_count": null,
   "metadata": {},
   "outputs": [],
   "source": [
    "df2 = pd.merge(definitive, yahoo_df, on='symbol', how='outer')"
   ]
  },
  {
   "cell_type": "code",
   "execution_count": null,
   "metadata": {},
   "outputs": [],
   "source": [
    "# If I do have outer join I do have left 825 stocks. \n",
    "df2"
   ]
  },
  {
   "cell_type": "code",
   "execution_count": null,
   "metadata": {},
   "outputs": [],
   "source": [
    "df2.sample(10)"
   ]
  },
  {
   "cell_type": "code",
   "execution_count": null,
   "metadata": {},
   "outputs": [],
   "source": [
    "# Selecting categorical columns. \n",
    "cat1 = df2.select_dtypes(exclude='number')\n",
    "cat1.head(5)"
   ]
  },
  {
   "cell_type": "code",
   "execution_count": null,
   "metadata": {},
   "outputs": [],
   "source": [
    "# Selecting categorical columns. \n",
    "num1 = df2.select_dtypes(include='number')\n",
    "num1.head(5)"
   ]
  },
  {
   "cell_type": "code",
   "execution_count": null,
   "metadata": {},
   "outputs": [],
   "source": [
    "num_corr2 = num1.corr()\n",
    "num_corr2"
   ]
  },
  {
   "cell_type": "code",
   "execution_count": null,
   "metadata": {},
   "outputs": [],
   "source": [
    "# Correlation Matrix-Heatmap Plot\n",
    "mask = np.zeros_like(num_corr2)\n",
    "mask[np.triu_indices_from(mask)] = True \n",
    "f, ax = plt.subplots(figsize=(20, 10))\n",
    "sns.set(font_scale=1.5)\n",
    "\n",
    "ax = sns.heatmap(num_corr2, mask=mask, annot=True, annot_kws={\"size\": 12}, linewidths=.5, cmap=\"BuPu\", fmt=\".2f\", ax=ax) # round to 2 decimal places\n",
    "ax.set_title(\"Correlation Heatmap\", fontsize=20) "
   ]
  },
  {
   "cell_type": "code",
   "execution_count": null,
   "metadata": {},
   "outputs": [],
   "source": [
    "pd.set_option('display.max_columns', None)"
   ]
  },
  {
   "cell_type": "code",
   "execution_count": null,
   "metadata": {},
   "outputs": [],
   "source": [
    "df2"
   ]
  },
  {
   "cell_type": "code",
   "execution_count": null,
   "metadata": {},
   "outputs": [],
   "source": [
    "df2.isna().sum()"
   ]
  }
 ],
 "metadata": {
  "kernelspec": {
   "display_name": "streamlit-stock",
   "language": "python",
   "name": "python3"
  },
  "language_info": {
   "codemirror_mode": {
    "name": "ipython",
    "version": 3
   },
   "file_extension": ".py",
   "mimetype": "text/x-python",
   "name": "python",
   "nbconvert_exporter": "python",
   "pygments_lexer": "ipython3",
   "version": "3.12.9"
  }
 },
 "nbformat": 4,
 "nbformat_minor": 2
}
