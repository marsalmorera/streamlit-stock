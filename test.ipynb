{
 "cells": [
  {
   "cell_type": "markdown",
   "metadata": {},
   "source": [
    "<h1 style= \"color:#9370DB;\"> Test </h1>"
   ]
  },
  {
   "cell_type": "code",
   "execution_count": 1,
   "metadata": {},
   "outputs": [
    {
     "name": "stderr",
     "output_type": "stream",
     "text": [
      "/opt/anaconda3/envs/streamlit-stock/lib/python3.12/site-packages/tqdm/auto.py:21: TqdmWarning: IProgress not found. Please update jupyter and ipywidgets. See https://ipywidgets.readthedocs.io/en/stable/user_install.html\n",
      "  from .autonotebook import tqdm as notebook_tqdm\n"
     ]
    }
   ],
   "source": [
    "# 📚 Libraries \n",
    "import kagglehub\n",
    "import pandas as pd\n",
    "import numpy as np\n",
    "import os\n",
    "\n",
    "# New liabraries. \n",
    "import scipy.stats as st\n",
    "\n",
    "# 📊 Visualizations\n",
    "import matplotlib.pyplot as plt\n",
    "import seaborn as sns\n",
    "import plotly.express as px\n",
    "import plotly.graph_objects as g"
   ]
  },
  {
   "cell_type": "markdown",
   "metadata": {},
   "source": [
    "<h2 style=\"color: #4C9F70;\"> 01 | Data Extraction </h2>"
   ]
  },
  {
   "cell_type": "code",
   "execution_count": 2,
   "metadata": {},
   "outputs": [],
   "source": [
    "data = pd.read_csv('plan_kaggle/sp500_stocks.csv')\n",
    "sp = pd.read_csv('plan_kaggle/sp500_index.csv')\n",
    "annual_returns = pd.read_csv('plan_kaggle/annual_returns.csv')"
   ]
  },
  {
   "cell_type": "code",
   "execution_count": 3,
   "metadata": {},
   "outputs": [],
   "source": [
    "# Cleaning columns with snake_case \n",
    "data.columns = [col.lower().replace(\" \", \"_\")for col in data.columns] \n",
    "sp.columns = [col.lower().replace(\" \", \"_\")for col in sp.columns] "
   ]
  },
  {
   "cell_type": "markdown",
   "metadata": {},
   "source": [
    "<h3 style=\"color: #4682B4;\">1.1 | Exploring the Data </h3>"
   ]
  },
  {
   "cell_type": "code",
   "execution_count": 4,
   "metadata": {},
   "outputs": [
    {
     "data": {
      "text/html": [
       "<div>\n",
       "<style scoped>\n",
       "    .dataframe tbody tr th:only-of-type {\n",
       "        vertical-align: middle;\n",
       "    }\n",
       "\n",
       "    .dataframe tbody tr th {\n",
       "        vertical-align: top;\n",
       "    }\n",
       "\n",
       "    .dataframe thead th {\n",
       "        text-align: right;\n",
       "    }\n",
       "</style>\n",
       "<table border=\"1\" class=\"dataframe\">\n",
       "  <thead>\n",
       "    <tr style=\"text-align: right;\">\n",
       "      <th></th>\n",
       "      <th>date</th>\n",
       "      <th>symbol</th>\n",
       "      <th>adj_close</th>\n",
       "      <th>close</th>\n",
       "      <th>high</th>\n",
       "      <th>low</th>\n",
       "      <th>open</th>\n",
       "      <th>volume</th>\n",
       "    </tr>\n",
       "  </thead>\n",
       "  <tbody>\n",
       "    <tr>\n",
       "      <th>579275</th>\n",
       "      <td>2012-02-29</td>\n",
       "      <td>DOV</td>\n",
       "      <td>33.839378</td>\n",
       "      <td>42.914886</td>\n",
       "      <td>43.464561</td>\n",
       "      <td>42.700378</td>\n",
       "      <td>43.330498</td>\n",
       "      <td>1528040.0</td>\n",
       "    </tr>\n",
       "    <tr>\n",
       "      <th>1358791</th>\n",
       "      <td>2018-07-24</td>\n",
       "      <td>PLTR</td>\n",
       "      <td>NaN</td>\n",
       "      <td>NaN</td>\n",
       "      <td>NaN</td>\n",
       "      <td>NaN</td>\n",
       "      <td>NaN</td>\n",
       "      <td>NaN</td>\n",
       "    </tr>\n",
       "    <tr>\n",
       "      <th>543883</th>\n",
       "      <td>2020-11-06</td>\n",
       "      <td>DAL</td>\n",
       "      <td>30.933666</td>\n",
       "      <td>31.420000</td>\n",
       "      <td>31.840000</td>\n",
       "      <td>31.030001</td>\n",
       "      <td>31.670000</td>\n",
       "      <td>11821100.0</td>\n",
       "    </tr>\n",
       "  </tbody>\n",
       "</table>\n",
       "</div>"
      ],
      "text/plain": [
       "               date symbol  adj_close      close       high        low  \\\n",
       "579275   2012-02-29    DOV  33.839378  42.914886  43.464561  42.700378   \n",
       "1358791  2018-07-24   PLTR        NaN        NaN        NaN        NaN   \n",
       "543883   2020-11-06    DAL  30.933666  31.420000  31.840000  31.030001   \n",
       "\n",
       "              open      volume  \n",
       "579275   43.330498   1528040.0  \n",
       "1358791        NaN         NaN  \n",
       "543883   31.670000  11821100.0  "
      ]
     },
     "execution_count": 4,
     "metadata": {},
     "output_type": "execute_result"
    }
   ],
   "source": [
    "data.sample(3)"
   ]
  },
  {
   "cell_type": "code",
   "execution_count": 5,
   "metadata": {},
   "outputs": [
    {
     "data": {
      "text/html": [
       "<div>\n",
       "<style scoped>\n",
       "    .dataframe tbody tr th:only-of-type {\n",
       "        vertical-align: middle;\n",
       "    }\n",
       "\n",
       "    .dataframe tbody tr th {\n",
       "        vertical-align: top;\n",
       "    }\n",
       "\n",
       "    .dataframe thead th {\n",
       "        text-align: right;\n",
       "    }\n",
       "</style>\n",
       "<table border=\"1\" class=\"dataframe\">\n",
       "  <thead>\n",
       "    <tr style=\"text-align: right;\">\n",
       "      <th></th>\n",
       "      <th>date</th>\n",
       "      <th>s&amp;p500</th>\n",
       "    </tr>\n",
       "  </thead>\n",
       "  <tbody>\n",
       "    <tr>\n",
       "      <th>400</th>\n",
       "      <td>2016-07-12</td>\n",
       "      <td>2152.14</td>\n",
       "    </tr>\n",
       "    <tr>\n",
       "      <th>152</th>\n",
       "      <td>2015-07-17</td>\n",
       "      <td>2126.64</td>\n",
       "    </tr>\n",
       "    <tr>\n",
       "      <th>553</th>\n",
       "      <td>2017-02-17</td>\n",
       "      <td>2351.16</td>\n",
       "    </tr>\n",
       "  </tbody>\n",
       "</table>\n",
       "</div>"
      ],
      "text/plain": [
       "           date   s&p500\n",
       "400  2016-07-12  2152.14\n",
       "152  2015-07-17  2126.64\n",
       "553  2017-02-17  2351.16"
      ]
     },
     "execution_count": 5,
     "metadata": {},
     "output_type": "execute_result"
    }
   ],
   "source": [
    "sp.sample(3)"
   ]
  },
  {
   "cell_type": "code",
   "execution_count": 6,
   "metadata": {},
   "outputs": [
    {
     "data": {
      "text/html": [
       "<div>\n",
       "<style scoped>\n",
       "    .dataframe tbody tr th:only-of-type {\n",
       "        vertical-align: middle;\n",
       "    }\n",
       "\n",
       "    .dataframe tbody tr th {\n",
       "        vertical-align: top;\n",
       "    }\n",
       "\n",
       "    .dataframe thead th {\n",
       "        text-align: right;\n",
       "    }\n",
       "</style>\n",
       "<table border=\"1\" class=\"dataframe\">\n",
       "  <thead>\n",
       "    <tr style=\"text-align: right;\">\n",
       "      <th></th>\n",
       "      <th>Unnamed: 0</th>\n",
       "      <th>symbol</th>\n",
       "      <th>year</th>\n",
       "      <th>annual_return</th>\n",
       "    </tr>\n",
       "  </thead>\n",
       "  <tbody>\n",
       "    <tr>\n",
       "      <th>7095</th>\n",
       "      <td>7095</td>\n",
       "      <td>XEL</td>\n",
       "      <td>2020</td>\n",
       "      <td>0.0969</td>\n",
       "    </tr>\n",
       "    <tr>\n",
       "      <th>1326</th>\n",
       "      <td>1326</td>\n",
       "      <td>CI</td>\n",
       "      <td>2022</td>\n",
       "      <td>0.4382</td>\n",
       "    </tr>\n",
       "    <tr>\n",
       "      <th>5581</th>\n",
       "      <td>5581</td>\n",
       "      <td>QRVO</td>\n",
       "      <td>2024</td>\n",
       "      <td>-0.3726</td>\n",
       "    </tr>\n",
       "  </tbody>\n",
       "</table>\n",
       "</div>"
      ],
      "text/plain": [
       "      Unnamed: 0 symbol  year  annual_return\n",
       "7095        7095    XEL  2020         0.0969\n",
       "1326        1326     CI  2022         0.4382\n",
       "5581        5581   QRVO  2024        -0.3726"
      ]
     },
     "execution_count": 6,
     "metadata": {},
     "output_type": "execute_result"
    }
   ],
   "source": [
    "annual_returns.sample(3)"
   ]
  },
  {
   "cell_type": "code",
   "execution_count": 7,
   "metadata": {},
   "outputs": [],
   "source": [
    "data2 = data.copy()\n",
    "annual_returns2 = annual_returns.copy()\n",
    "sp2 = sp.copy()"
   ]
  },
  {
   "cell_type": "markdown",
   "metadata": {},
   "source": [
    "<h2 style=\"color: #4C9F70;\"> 02 | Data Cleaning </h2>"
   ]
  },
  {
   "cell_type": "code",
   "execution_count": 44,
   "metadata": {},
   "outputs": [
    {
     "data": {
      "text/plain": [
       "date       object\n",
       "symbol     object\n",
       "price     float64\n",
       "dtype: object"
      ]
     },
     "execution_count": 44,
     "metadata": {},
     "output_type": "execute_result"
    }
   ],
   "source": [
    "sp.dtypes"
   ]
  },
  {
   "cell_type": "markdown",
   "metadata": {},
   "source": [
    "<h3 style=\"color: #4682B4;\"> 2.1 | Dealing with Data types</h3>"
   ]
  },
  {
   "cell_type": "code",
   "execution_count": 8,
   "metadata": {},
   "outputs": [
    {
     "data": {
      "text/plain": [
       "date       object\n",
       "s&p500    float64\n",
       "dtype: object"
      ]
     },
     "execution_count": 8,
     "metadata": {},
     "output_type": "execute_result"
    }
   ],
   "source": [
    "sp.dtypes"
   ]
  },
  {
   "cell_type": "markdown",
   "metadata": {},
   "source": [
    "<h3 style=\"color: #4682B4;\"> 2.2 | Dealing with NaN values</h3>"
   ]
  },
  {
   "cell_type": "code",
   "execution_count": 9,
   "metadata": {},
   "outputs": [
    {
     "data": {
      "text/plain": [
       "Unnamed: 0       0\n",
       "symbol           0\n",
       "year             0\n",
       "annual_return    0\n",
       "dtype: int64"
      ]
     },
     "execution_count": 9,
     "metadata": {},
     "output_type": "execute_result"
    }
   ],
   "source": [
    "annual_returns2.isna().sum()"
   ]
  },
  {
   "cell_type": "code",
   "execution_count": 10,
   "metadata": {},
   "outputs": [
    {
     "data": {
      "text/plain": [
       "date      0\n",
       "s&p500    0\n",
       "dtype: int64"
      ]
     },
     "execution_count": 10,
     "metadata": {},
     "output_type": "execute_result"
    }
   ],
   "source": [
    "sp.isna().sum()"
   ]
  },
  {
   "cell_type": "code",
   "execution_count": 11,
   "metadata": {},
   "outputs": [
    {
     "data": {
      "text/plain": [
       "date              0\n",
       "symbol            0\n",
       "adj_close    101626\n",
       "close        101626\n",
       "high         101626\n",
       "low          101626\n",
       "open         101626\n",
       "volume       101626\n",
       "dtype: int64"
      ]
     },
     "execution_count": 11,
     "metadata": {},
     "output_type": "execute_result"
    }
   ],
   "source": [
    "data.isna().sum()"
   ]
  },
  {
   "cell_type": "code",
   "execution_count": 12,
   "metadata": {},
   "outputs": [],
   "source": [
    "# Delete NaN.\n",
    "data2.dropna(how='any', inplace=True)"
   ]
  },
  {
   "cell_type": "code",
   "execution_count": 13,
   "metadata": {},
   "outputs": [
    {
     "data": {
      "text/plain": [
       "date         0\n",
       "symbol       0\n",
       "adj_close    0\n",
       "close        0\n",
       "high         0\n",
       "low          0\n",
       "open         0\n",
       "volume       0\n",
       "dtype: int64"
      ]
     },
     "execution_count": 13,
     "metadata": {},
     "output_type": "execute_result"
    }
   ],
   "source": [
    "data2.isna().sum()"
   ]
  },
  {
   "cell_type": "code",
   "execution_count": 14,
   "metadata": {},
   "outputs": [
    {
     "data": {
      "text/plain": [
       "symbol\n",
       "MMM     3758\n",
       "MHK     3758\n",
       "NTAP    3758\n",
       "NDAQ    3758\n",
       "MSCI    3758\n",
       "        ... \n",
       "VLTO     297\n",
       "SOLV     175\n",
       "GEV      175\n",
       "SW       108\n",
       "AMTM      53\n",
       "Name: count, Length: 503, dtype: int64"
      ]
     },
     "execution_count": 14,
     "metadata": {},
     "output_type": "execute_result"
    }
   ],
   "source": [
    "# Use this as a reference conunting the same after dropping them that without droping them. \n",
    "data2.symbol.value_counts()"
   ]
  },
  {
   "cell_type": "markdown",
   "metadata": {},
   "source": [
    "<h3 style=\"color: #4682B4;\"> 2.3 | Dealing with Duplicates</h3>"
   ]
  },
  {
   "cell_type": "code",
   "execution_count": 15,
   "metadata": {},
   "outputs": [
    {
     "data": {
      "text/plain": [
       "np.int64(0)"
      ]
     },
     "execution_count": 15,
     "metadata": {},
     "output_type": "execute_result"
    }
   ],
   "source": [
    "data2.duplicated().sum()"
   ]
  },
  {
   "cell_type": "code",
   "execution_count": 16,
   "metadata": {},
   "outputs": [
    {
     "data": {
      "text/plain": [
       "np.int64(0)"
      ]
     },
     "execution_count": 16,
     "metadata": {},
     "output_type": "execute_result"
    }
   ],
   "source": [
    "annual_returns2.duplicated().sum()"
   ]
  },
  {
   "cell_type": "code",
   "execution_count": 17,
   "metadata": {},
   "outputs": [
    {
     "data": {
      "text/plain": [
       "np.int64(0)"
      ]
     },
     "execution_count": 17,
     "metadata": {},
     "output_type": "execute_result"
    }
   ],
   "source": [
    "sp.duplicated().sum()"
   ]
  },
  {
   "cell_type": "markdown",
   "metadata": {},
   "source": [
    "<h3 style=\"color: #4682B4;\"> 2.4 | Dealing with columns </h3"
   ]
  },
  {
   "cell_type": "code",
   "execution_count": 18,
   "metadata": {},
   "outputs": [
    {
     "data": {
      "text/html": [
       "<div>\n",
       "<style scoped>\n",
       "    .dataframe tbody tr th:only-of-type {\n",
       "        vertical-align: middle;\n",
       "    }\n",
       "\n",
       "    .dataframe tbody tr th {\n",
       "        vertical-align: top;\n",
       "    }\n",
       "\n",
       "    .dataframe thead th {\n",
       "        text-align: right;\n",
       "    }\n",
       "</style>\n",
       "<table border=\"1\" class=\"dataframe\">\n",
       "  <thead>\n",
       "    <tr style=\"text-align: right;\">\n",
       "      <th></th>\n",
       "      <th>date</th>\n",
       "      <th>symbol</th>\n",
       "      <th>adj_close</th>\n",
       "      <th>close</th>\n",
       "      <th>high</th>\n",
       "      <th>low</th>\n",
       "      <th>open</th>\n",
       "      <th>volume</th>\n",
       "    </tr>\n",
       "  </thead>\n",
       "  <tbody>\n",
       "    <tr>\n",
       "      <th>0</th>\n",
       "      <td>2010-01-04</td>\n",
       "      <td>MMM</td>\n",
       "      <td>43.783867</td>\n",
       "      <td>69.414719</td>\n",
       "      <td>69.774246</td>\n",
       "      <td>69.122070</td>\n",
       "      <td>69.473244</td>\n",
       "      <td>3640265.0</td>\n",
       "    </tr>\n",
       "    <tr>\n",
       "      <th>1</th>\n",
       "      <td>2010-01-05</td>\n",
       "      <td>MMM</td>\n",
       "      <td>43.509628</td>\n",
       "      <td>68.979935</td>\n",
       "      <td>69.590302</td>\n",
       "      <td>68.311035</td>\n",
       "      <td>69.230766</td>\n",
       "      <td>3405012.0</td>\n",
       "    </tr>\n",
       "    <tr>\n",
       "      <th>2</th>\n",
       "      <td>2010-01-06</td>\n",
       "      <td>MMM</td>\n",
       "      <td>44.126682</td>\n",
       "      <td>69.958191</td>\n",
       "      <td>70.735786</td>\n",
       "      <td>69.824417</td>\n",
       "      <td>70.133781</td>\n",
       "      <td>6301126.0</td>\n",
       "    </tr>\n",
       "    <tr>\n",
       "      <th>3</th>\n",
       "      <td>2010-01-07</td>\n",
       "      <td>MMM</td>\n",
       "      <td>44.158325</td>\n",
       "      <td>70.008362</td>\n",
       "      <td>70.033447</td>\n",
       "      <td>68.662209</td>\n",
       "      <td>69.665550</td>\n",
       "      <td>5346240.0</td>\n",
       "    </tr>\n",
       "    <tr>\n",
       "      <th>4</th>\n",
       "      <td>2010-01-08</td>\n",
       "      <td>MMM</td>\n",
       "      <td>44.469463</td>\n",
       "      <td>70.501671</td>\n",
       "      <td>70.501671</td>\n",
       "      <td>69.648827</td>\n",
       "      <td>69.974915</td>\n",
       "      <td>4073337.0</td>\n",
       "    </tr>\n",
       "    <tr>\n",
       "      <th>...</th>\n",
       "      <td>...</td>\n",
       "      <td>...</td>\n",
       "      <td>...</td>\n",
       "      <td>...</td>\n",
       "      <td>...</td>\n",
       "      <td>...</td>\n",
       "      <td>...</td>\n",
       "      <td>...</td>\n",
       "    </tr>\n",
       "    <tr>\n",
       "      <th>1890269</th>\n",
       "      <td>2024-12-02</td>\n",
       "      <td>ZTS</td>\n",
       "      <td>176.809998</td>\n",
       "      <td>176.809998</td>\n",
       "      <td>176.910004</td>\n",
       "      <td>173.729996</td>\n",
       "      <td>175.779999</td>\n",
       "      <td>2391500.0</td>\n",
       "    </tr>\n",
       "    <tr>\n",
       "      <th>1890270</th>\n",
       "      <td>2024-12-03</td>\n",
       "      <td>ZTS</td>\n",
       "      <td>176.940002</td>\n",
       "      <td>176.940002</td>\n",
       "      <td>181.399994</td>\n",
       "      <td>176.559998</td>\n",
       "      <td>176.710007</td>\n",
       "      <td>2679000.0</td>\n",
       "    </tr>\n",
       "    <tr>\n",
       "      <th>1890271</th>\n",
       "      <td>2024-12-04</td>\n",
       "      <td>ZTS</td>\n",
       "      <td>175.320007</td>\n",
       "      <td>175.320007</td>\n",
       "      <td>178.500000</td>\n",
       "      <td>174.539993</td>\n",
       "      <td>174.600006</td>\n",
       "      <td>2687000.0</td>\n",
       "    </tr>\n",
       "    <tr>\n",
       "      <th>1890272</th>\n",
       "      <td>2024-12-05</td>\n",
       "      <td>ZTS</td>\n",
       "      <td>174.770004</td>\n",
       "      <td>174.770004</td>\n",
       "      <td>176.529999</td>\n",
       "      <td>173.720001</td>\n",
       "      <td>175.270004</td>\n",
       "      <td>2442000.0</td>\n",
       "    </tr>\n",
       "    <tr>\n",
       "      <th>1890273</th>\n",
       "      <td>2024-12-06</td>\n",
       "      <td>ZTS</td>\n",
       "      <td>176.460007</td>\n",
       "      <td>176.460007</td>\n",
       "      <td>177.550003</td>\n",
       "      <td>175.085007</td>\n",
       "      <td>174.770004</td>\n",
       "      <td>2231961.0</td>\n",
       "    </tr>\n",
       "  </tbody>\n",
       "</table>\n",
       "<p>1788648 rows × 8 columns</p>\n",
       "</div>"
      ],
      "text/plain": [
       "               date symbol   adj_close       close        high         low  \\\n",
       "0        2010-01-04    MMM   43.783867   69.414719   69.774246   69.122070   \n",
       "1        2010-01-05    MMM   43.509628   68.979935   69.590302   68.311035   \n",
       "2        2010-01-06    MMM   44.126682   69.958191   70.735786   69.824417   \n",
       "3        2010-01-07    MMM   44.158325   70.008362   70.033447   68.662209   \n",
       "4        2010-01-08    MMM   44.469463   70.501671   70.501671   69.648827   \n",
       "...             ...    ...         ...         ...         ...         ...   \n",
       "1890269  2024-12-02    ZTS  176.809998  176.809998  176.910004  173.729996   \n",
       "1890270  2024-12-03    ZTS  176.940002  176.940002  181.399994  176.559998   \n",
       "1890271  2024-12-04    ZTS  175.320007  175.320007  178.500000  174.539993   \n",
       "1890272  2024-12-05    ZTS  174.770004  174.770004  176.529999  173.720001   \n",
       "1890273  2024-12-06    ZTS  176.460007  176.460007  177.550003  175.085007   \n",
       "\n",
       "               open     volume  \n",
       "0         69.473244  3640265.0  \n",
       "1         69.230766  3405012.0  \n",
       "2         70.133781  6301126.0  \n",
       "3         69.665550  5346240.0  \n",
       "4         69.974915  4073337.0  \n",
       "...             ...        ...  \n",
       "1890269  175.779999  2391500.0  \n",
       "1890270  176.710007  2679000.0  \n",
       "1890271  174.600006  2687000.0  \n",
       "1890272  175.270004  2442000.0  \n",
       "1890273  174.770004  2231961.0  \n",
       "\n",
       "[1788648 rows x 8 columns]"
      ]
     },
     "execution_count": 18,
     "metadata": {},
     "output_type": "execute_result"
    }
   ],
   "source": [
    "data2"
   ]
  },
  {
   "cell_type": "code",
   "execution_count": 19,
   "metadata": {},
   "outputs": [],
   "source": [
    "# Delete Columns \n",
    "data2.drop(columns=['high', 'low', 'open','close','volume'], inplace=True)"
   ]
  },
  {
   "cell_type": "code",
   "execution_count": 20,
   "metadata": {},
   "outputs": [],
   "source": [
    "data2.rename(columns={'adj_close': 'price'}, inplace=True)\n"
   ]
  },
  {
   "cell_type": "code",
   "execution_count": 21,
   "metadata": {},
   "outputs": [],
   "source": [
    "#Create new symbol. \n",
    "sp['symbol'] = 'SP500'\n"
   ]
  },
  {
   "cell_type": "code",
   "execution_count": 22,
   "metadata": {},
   "outputs": [
    {
     "data": {
      "text/html": [
       "<div>\n",
       "<style scoped>\n",
       "    .dataframe tbody tr th:only-of-type {\n",
       "        vertical-align: middle;\n",
       "    }\n",
       "\n",
       "    .dataframe tbody tr th {\n",
       "        vertical-align: top;\n",
       "    }\n",
       "\n",
       "    .dataframe thead th {\n",
       "        text-align: right;\n",
       "    }\n",
       "</style>\n",
       "<table border=\"1\" class=\"dataframe\">\n",
       "  <thead>\n",
       "    <tr style=\"text-align: right;\">\n",
       "      <th></th>\n",
       "      <th>date</th>\n",
       "      <th>symbol</th>\n",
       "      <th>price</th>\n",
       "    </tr>\n",
       "  </thead>\n",
       "  <tbody>\n",
       "    <tr>\n",
       "      <th>0</th>\n",
       "      <td>2010-01-04</td>\n",
       "      <td>MMM</td>\n",
       "      <td>43.783867</td>\n",
       "    </tr>\n",
       "    <tr>\n",
       "      <th>1</th>\n",
       "      <td>2010-01-05</td>\n",
       "      <td>MMM</td>\n",
       "      <td>43.509628</td>\n",
       "    </tr>\n",
       "    <tr>\n",
       "      <th>2</th>\n",
       "      <td>2010-01-06</td>\n",
       "      <td>MMM</td>\n",
       "      <td>44.126682</td>\n",
       "    </tr>\n",
       "    <tr>\n",
       "      <th>3</th>\n",
       "      <td>2010-01-07</td>\n",
       "      <td>MMM</td>\n",
       "      <td>44.158325</td>\n",
       "    </tr>\n",
       "    <tr>\n",
       "      <th>4</th>\n",
       "      <td>2010-01-08</td>\n",
       "      <td>MMM</td>\n",
       "      <td>44.469463</td>\n",
       "    </tr>\n",
       "    <tr>\n",
       "      <th>...</th>\n",
       "      <td>...</td>\n",
       "      <td>...</td>\n",
       "      <td>...</td>\n",
       "    </tr>\n",
       "    <tr>\n",
       "      <th>1890269</th>\n",
       "      <td>2024-12-02</td>\n",
       "      <td>ZTS</td>\n",
       "      <td>176.809998</td>\n",
       "    </tr>\n",
       "    <tr>\n",
       "      <th>1890270</th>\n",
       "      <td>2024-12-03</td>\n",
       "      <td>ZTS</td>\n",
       "      <td>176.940002</td>\n",
       "    </tr>\n",
       "    <tr>\n",
       "      <th>1890271</th>\n",
       "      <td>2024-12-04</td>\n",
       "      <td>ZTS</td>\n",
       "      <td>175.320007</td>\n",
       "    </tr>\n",
       "    <tr>\n",
       "      <th>1890272</th>\n",
       "      <td>2024-12-05</td>\n",
       "      <td>ZTS</td>\n",
       "      <td>174.770004</td>\n",
       "    </tr>\n",
       "    <tr>\n",
       "      <th>1890273</th>\n",
       "      <td>2024-12-06</td>\n",
       "      <td>ZTS</td>\n",
       "      <td>176.460007</td>\n",
       "    </tr>\n",
       "  </tbody>\n",
       "</table>\n",
       "<p>1788648 rows × 3 columns</p>\n",
       "</div>"
      ],
      "text/plain": [
       "               date symbol       price\n",
       "0        2010-01-04    MMM   43.783867\n",
       "1        2010-01-05    MMM   43.509628\n",
       "2        2010-01-06    MMM   44.126682\n",
       "3        2010-01-07    MMM   44.158325\n",
       "4        2010-01-08    MMM   44.469463\n",
       "...             ...    ...         ...\n",
       "1890269  2024-12-02    ZTS  176.809998\n",
       "1890270  2024-12-03    ZTS  176.940002\n",
       "1890271  2024-12-04    ZTS  175.320007\n",
       "1890272  2024-12-05    ZTS  174.770004\n",
       "1890273  2024-12-06    ZTS  176.460007\n",
       "\n",
       "[1788648 rows x 3 columns]"
      ]
     },
     "execution_count": 22,
     "metadata": {},
     "output_type": "execute_result"
    }
   ],
   "source": [
    "data2"
   ]
  },
  {
   "cell_type": "code",
   "execution_count": 23,
   "metadata": {},
   "outputs": [
    {
     "data": {
      "text/html": [
       "<div>\n",
       "<style scoped>\n",
       "    .dataframe tbody tr th:only-of-type {\n",
       "        vertical-align: middle;\n",
       "    }\n",
       "\n",
       "    .dataframe tbody tr th {\n",
       "        vertical-align: top;\n",
       "    }\n",
       "\n",
       "    .dataframe thead th {\n",
       "        text-align: right;\n",
       "    }\n",
       "</style>\n",
       "<table border=\"1\" class=\"dataframe\">\n",
       "  <thead>\n",
       "    <tr style=\"text-align: right;\">\n",
       "      <th></th>\n",
       "      <th>date</th>\n",
       "      <th>s&amp;p500</th>\n",
       "      <th>symbol</th>\n",
       "    </tr>\n",
       "  </thead>\n",
       "  <tbody>\n",
       "    <tr>\n",
       "      <th>0</th>\n",
       "      <td>2014-12-08</td>\n",
       "      <td>2060.31</td>\n",
       "      <td>SP500</td>\n",
       "    </tr>\n",
       "    <tr>\n",
       "      <th>1</th>\n",
       "      <td>2014-12-09</td>\n",
       "      <td>2059.82</td>\n",
       "      <td>SP500</td>\n",
       "    </tr>\n",
       "    <tr>\n",
       "      <th>2</th>\n",
       "      <td>2014-12-10</td>\n",
       "      <td>2026.14</td>\n",
       "      <td>SP500</td>\n",
       "    </tr>\n",
       "    <tr>\n",
       "      <th>3</th>\n",
       "      <td>2014-12-11</td>\n",
       "      <td>2035.33</td>\n",
       "      <td>SP500</td>\n",
       "    </tr>\n",
       "    <tr>\n",
       "      <th>4</th>\n",
       "      <td>2014-12-12</td>\n",
       "      <td>2002.33</td>\n",
       "      <td>SP500</td>\n",
       "    </tr>\n",
       "    <tr>\n",
       "      <th>...</th>\n",
       "      <td>...</td>\n",
       "      <td>...</td>\n",
       "      <td>...</td>\n",
       "    </tr>\n",
       "    <tr>\n",
       "      <th>2511</th>\n",
       "      <td>2024-11-29</td>\n",
       "      <td>6032.38</td>\n",
       "      <td>SP500</td>\n",
       "    </tr>\n",
       "    <tr>\n",
       "      <th>2512</th>\n",
       "      <td>2024-12-02</td>\n",
       "      <td>6047.15</td>\n",
       "      <td>SP500</td>\n",
       "    </tr>\n",
       "    <tr>\n",
       "      <th>2513</th>\n",
       "      <td>2024-12-03</td>\n",
       "      <td>6049.88</td>\n",
       "      <td>SP500</td>\n",
       "    </tr>\n",
       "    <tr>\n",
       "      <th>2514</th>\n",
       "      <td>2024-12-04</td>\n",
       "      <td>6086.49</td>\n",
       "      <td>SP500</td>\n",
       "    </tr>\n",
       "    <tr>\n",
       "      <th>2515</th>\n",
       "      <td>2024-12-05</td>\n",
       "      <td>6075.11</td>\n",
       "      <td>SP500</td>\n",
       "    </tr>\n",
       "  </tbody>\n",
       "</table>\n",
       "<p>2516 rows × 3 columns</p>\n",
       "</div>"
      ],
      "text/plain": [
       "            date   s&p500 symbol\n",
       "0     2014-12-08  2060.31  SP500\n",
       "1     2014-12-09  2059.82  SP500\n",
       "2     2014-12-10  2026.14  SP500\n",
       "3     2014-12-11  2035.33  SP500\n",
       "4     2014-12-12  2002.33  SP500\n",
       "...          ...      ...    ...\n",
       "2511  2024-11-29  6032.38  SP500\n",
       "2512  2024-12-02  6047.15  SP500\n",
       "2513  2024-12-03  6049.88  SP500\n",
       "2514  2024-12-04  6086.49  SP500\n",
       "2515  2024-12-05  6075.11  SP500\n",
       "\n",
       "[2516 rows x 3 columns]"
      ]
     },
     "execution_count": 23,
     "metadata": {},
     "output_type": "execute_result"
    }
   ],
   "source": [
    "sp"
   ]
  },
  {
   "cell_type": "code",
   "execution_count": 24,
   "metadata": {},
   "outputs": [
    {
     "data": {
      "text/html": [
       "<div>\n",
       "<style scoped>\n",
       "    .dataframe tbody tr th:only-of-type {\n",
       "        vertical-align: middle;\n",
       "    }\n",
       "\n",
       "    .dataframe tbody tr th {\n",
       "        vertical-align: top;\n",
       "    }\n",
       "\n",
       "    .dataframe thead th {\n",
       "        text-align: right;\n",
       "    }\n",
       "</style>\n",
       "<table border=\"1\" class=\"dataframe\">\n",
       "  <thead>\n",
       "    <tr style=\"text-align: right;\">\n",
       "      <th></th>\n",
       "      <th>date</th>\n",
       "      <th>price</th>\n",
       "      <th>symbol</th>\n",
       "    </tr>\n",
       "  </thead>\n",
       "  <tbody>\n",
       "    <tr>\n",
       "      <th>0</th>\n",
       "      <td>2014-12-08</td>\n",
       "      <td>2060.31</td>\n",
       "      <td>SP500</td>\n",
       "    </tr>\n",
       "    <tr>\n",
       "      <th>1</th>\n",
       "      <td>2014-12-09</td>\n",
       "      <td>2059.82</td>\n",
       "      <td>SP500</td>\n",
       "    </tr>\n",
       "    <tr>\n",
       "      <th>2</th>\n",
       "      <td>2014-12-10</td>\n",
       "      <td>2026.14</td>\n",
       "      <td>SP500</td>\n",
       "    </tr>\n",
       "    <tr>\n",
       "      <th>3</th>\n",
       "      <td>2014-12-11</td>\n",
       "      <td>2035.33</td>\n",
       "      <td>SP500</td>\n",
       "    </tr>\n",
       "    <tr>\n",
       "      <th>4</th>\n",
       "      <td>2014-12-12</td>\n",
       "      <td>2002.33</td>\n",
       "      <td>SP500</td>\n",
       "    </tr>\n",
       "  </tbody>\n",
       "</table>\n",
       "</div>"
      ],
      "text/plain": [
       "         date    price symbol\n",
       "0  2014-12-08  2060.31  SP500\n",
       "1  2014-12-09  2059.82  SP500\n",
       "2  2014-12-10  2026.14  SP500\n",
       "3  2014-12-11  2035.33  SP500\n",
       "4  2014-12-12  2002.33  SP500"
      ]
     },
     "execution_count": 24,
     "metadata": {},
     "output_type": "execute_result"
    }
   ],
   "source": [
    "sp.rename(columns={'s&p500': 'price'}, inplace=True)\n",
    "cols = ['date', 'symbol', 'price']\n",
    "sp[cols] = sp[cols]\n",
    "sp.head()\n"
   ]
  },
  {
   "cell_type": "code",
   "execution_count": 25,
   "metadata": {},
   "outputs": [
    {
     "data": {
      "text/html": [
       "<div>\n",
       "<style scoped>\n",
       "    .dataframe tbody tr th:only-of-type {\n",
       "        vertical-align: middle;\n",
       "    }\n",
       "\n",
       "    .dataframe tbody tr th {\n",
       "        vertical-align: top;\n",
       "    }\n",
       "\n",
       "    .dataframe thead th {\n",
       "        text-align: right;\n",
       "    }\n",
       "</style>\n",
       "<table border=\"1\" class=\"dataframe\">\n",
       "  <thead>\n",
       "    <tr style=\"text-align: right;\">\n",
       "      <th></th>\n",
       "      <th>date</th>\n",
       "      <th>symbol</th>\n",
       "      <th>price</th>\n",
       "    </tr>\n",
       "  </thead>\n",
       "  <tbody>\n",
       "    <tr>\n",
       "      <th>0</th>\n",
       "      <td>2014-12-08</td>\n",
       "      <td>SP500</td>\n",
       "      <td>2060.31</td>\n",
       "    </tr>\n",
       "    <tr>\n",
       "      <th>1</th>\n",
       "      <td>2014-12-09</td>\n",
       "      <td>SP500</td>\n",
       "      <td>2059.82</td>\n",
       "    </tr>\n",
       "    <tr>\n",
       "      <th>2</th>\n",
       "      <td>2014-12-10</td>\n",
       "      <td>SP500</td>\n",
       "      <td>2026.14</td>\n",
       "    </tr>\n",
       "    <tr>\n",
       "      <th>3</th>\n",
       "      <td>2014-12-11</td>\n",
       "      <td>SP500</td>\n",
       "      <td>2035.33</td>\n",
       "    </tr>\n",
       "    <tr>\n",
       "      <th>4</th>\n",
       "      <td>2014-12-12</td>\n",
       "      <td>SP500</td>\n",
       "      <td>2002.33</td>\n",
       "    </tr>\n",
       "  </tbody>\n",
       "</table>\n",
       "</div>"
      ],
      "text/plain": [
       "         date symbol    price\n",
       "0  2014-12-08  SP500  2060.31\n",
       "1  2014-12-09  SP500  2059.82\n",
       "2  2014-12-10  SP500  2026.14\n",
       "3  2014-12-11  SP500  2035.33\n",
       "4  2014-12-12  SP500  2002.33"
      ]
     },
     "execution_count": 25,
     "metadata": {},
     "output_type": "execute_result"
    }
   ],
   "source": [
    "cols = ['date', 'symbol', 'price']\n",
    "sp = sp[cols]\n",
    "sp.head()"
   ]
  },
  {
   "cell_type": "code",
   "execution_count": 26,
   "metadata": {},
   "outputs": [],
   "source": [
    "sp.columns = ['date', 'symbol', 'price']"
   ]
  },
  {
   "cell_type": "code",
   "execution_count": 27,
   "metadata": {},
   "outputs": [
    {
     "data": {
      "text/html": [
       "<div>\n",
       "<style scoped>\n",
       "    .dataframe tbody tr th:only-of-type {\n",
       "        vertical-align: middle;\n",
       "    }\n",
       "\n",
       "    .dataframe tbody tr th {\n",
       "        vertical-align: top;\n",
       "    }\n",
       "\n",
       "    .dataframe thead th {\n",
       "        text-align: right;\n",
       "    }\n",
       "</style>\n",
       "<table border=\"1\" class=\"dataframe\">\n",
       "  <thead>\n",
       "    <tr style=\"text-align: right;\">\n",
       "      <th></th>\n",
       "      <th>date</th>\n",
       "      <th>symbol</th>\n",
       "      <th>price</th>\n",
       "    </tr>\n",
       "  </thead>\n",
       "  <tbody>\n",
       "    <tr>\n",
       "      <th>0</th>\n",
       "      <td>2010-01-04</td>\n",
       "      <td>MMM</td>\n",
       "      <td>43.783867</td>\n",
       "    </tr>\n",
       "    <tr>\n",
       "      <th>1</th>\n",
       "      <td>2010-01-05</td>\n",
       "      <td>MMM</td>\n",
       "      <td>43.509628</td>\n",
       "    </tr>\n",
       "    <tr>\n",
       "      <th>2</th>\n",
       "      <td>2010-01-06</td>\n",
       "      <td>MMM</td>\n",
       "      <td>44.126682</td>\n",
       "    </tr>\n",
       "    <tr>\n",
       "      <th>3</th>\n",
       "      <td>2010-01-07</td>\n",
       "      <td>MMM</td>\n",
       "      <td>44.158325</td>\n",
       "    </tr>\n",
       "    <tr>\n",
       "      <th>4</th>\n",
       "      <td>2010-01-08</td>\n",
       "      <td>MMM</td>\n",
       "      <td>44.469463</td>\n",
       "    </tr>\n",
       "    <tr>\n",
       "      <th>...</th>\n",
       "      <td>...</td>\n",
       "      <td>...</td>\n",
       "      <td>...</td>\n",
       "    </tr>\n",
       "    <tr>\n",
       "      <th>1791159</th>\n",
       "      <td>2024-11-29</td>\n",
       "      <td>SP500</td>\n",
       "      <td>6032.380000</td>\n",
       "    </tr>\n",
       "    <tr>\n",
       "      <th>1791160</th>\n",
       "      <td>2024-12-02</td>\n",
       "      <td>SP500</td>\n",
       "      <td>6047.150000</td>\n",
       "    </tr>\n",
       "    <tr>\n",
       "      <th>1791161</th>\n",
       "      <td>2024-12-03</td>\n",
       "      <td>SP500</td>\n",
       "      <td>6049.880000</td>\n",
       "    </tr>\n",
       "    <tr>\n",
       "      <th>1791162</th>\n",
       "      <td>2024-12-04</td>\n",
       "      <td>SP500</td>\n",
       "      <td>6086.490000</td>\n",
       "    </tr>\n",
       "    <tr>\n",
       "      <th>1791163</th>\n",
       "      <td>2024-12-05</td>\n",
       "      <td>SP500</td>\n",
       "      <td>6075.110000</td>\n",
       "    </tr>\n",
       "  </tbody>\n",
       "</table>\n",
       "<p>1791164 rows × 3 columns</p>\n",
       "</div>"
      ],
      "text/plain": [
       "               date symbol        price\n",
       "0        2010-01-04    MMM    43.783867\n",
       "1        2010-01-05    MMM    43.509628\n",
       "2        2010-01-06    MMM    44.126682\n",
       "3        2010-01-07    MMM    44.158325\n",
       "4        2010-01-08    MMM    44.469463\n",
       "...             ...    ...          ...\n",
       "1791159  2024-11-29  SP500  6032.380000\n",
       "1791160  2024-12-02  SP500  6047.150000\n",
       "1791161  2024-12-03  SP500  6049.880000\n",
       "1791162  2024-12-04  SP500  6086.490000\n",
       "1791163  2024-12-05  SP500  6075.110000\n",
       "\n",
       "[1791164 rows x 3 columns]"
      ]
     },
     "execution_count": 27,
     "metadata": {},
     "output_type": "execute_result"
    }
   ],
   "source": [
    "stock_df = pd.concat([data2, sp], axis=0, ignore_index=True)\n",
    "stock_df"
   ]
  },
  {
   "cell_type": "code",
   "execution_count": 28,
   "metadata": {},
   "outputs": [],
   "source": [
    "# Change to datetime from stocks. \n",
    "stock_df['date'] = pd.to_datetime(stock_df['date'])"
   ]
  },
  {
   "cell_type": "code",
   "execution_count": 29,
   "metadata": {},
   "outputs": [],
   "source": [
    "stock_df['year'] = stock_df['date'].dt.year\n",
    "stock_df['month'] = stock_df['date'].dt.month\n",
    "stock_df['day'] = stock_df['date'].dt.day"
   ]
  },
  {
   "cell_type": "code",
   "execution_count": 30,
   "metadata": {},
   "outputs": [
    {
     "name": "stderr",
     "output_type": "stream",
     "text": [
      "/var/folders/bs/hzz4qdm57z9cct0t_9rdynfr0000gn/T/ipykernel_7015/3162761734.py:2: DeprecationWarning: DataFrameGroupBy.apply operated on the grouping columns. This behavior is deprecated, and in a future version of pandas the grouping columns will be excluded from the operation. Either pass `include_groups=False` to exclude the groupings or explicitly select the grouping columns after groupby to silence this warning.\n",
      "  annual_returns = stock_df.groupby(['symbol', 'year']).apply(lambda group: (group['price'].iloc[-1] / group['price'].iloc[0]) - 1).reset_index(name='annual_return').round(4)\n"
     ]
    }
   ],
   "source": [
    "# Creating new columns. Which will give us the annual return yearly per each stock & sp500. \n",
    "annual_returns = stock_df.groupby(['symbol', 'year']).apply(lambda group: (group['price'].iloc[-1] / group['price'].iloc[0]) - 1).reset_index(name='annual_return').round(4)"
   ]
  },
  {
   "cell_type": "code",
   "execution_count": 31,
   "metadata": {},
   "outputs": [],
   "source": [
    "# Drop rows where year is between 2010 and 2013 because SP500 for comparison we do have 2014. \n",
    "#data2.drop(data2[(data2['year'] >= 2010) & (data2['year'] <= 2014)].index, inplace=True)\n",
    "\n",
    "annual_returns.drop(annual_returns[(annual_returns['year'] >= 2010) & (annual_returns['year'] <= 2013)].index, inplace=True)"
   ]
  },
  {
   "cell_type": "code",
   "execution_count": 32,
   "metadata": {},
   "outputs": [
    {
     "data": {
      "text/html": [
       "<div>\n",
       "<style scoped>\n",
       "    .dataframe tbody tr th:only-of-type {\n",
       "        vertical-align: middle;\n",
       "    }\n",
       "\n",
       "    .dataframe tbody tr th {\n",
       "        vertical-align: top;\n",
       "    }\n",
       "\n",
       "    .dataframe thead th {\n",
       "        text-align: right;\n",
       "    }\n",
       "</style>\n",
       "<table border=\"1\" class=\"dataframe\">\n",
       "  <thead>\n",
       "    <tr style=\"text-align: right;\">\n",
       "      <th></th>\n",
       "      <th>symbol</th>\n",
       "      <th>year</th>\n",
       "      <th>annual_return</th>\n",
       "    </tr>\n",
       "  </thead>\n",
       "  <tbody>\n",
       "    <tr>\n",
       "      <th>4</th>\n",
       "      <td>A</td>\n",
       "      <td>2014</td>\n",
       "      <td>0.0254</td>\n",
       "    </tr>\n",
       "    <tr>\n",
       "      <th>5</th>\n",
       "      <td>A</td>\n",
       "      <td>2015</td>\n",
       "      <td>0.0418</td>\n",
       "    </tr>\n",
       "    <tr>\n",
       "      <th>6</th>\n",
       "      <td>A</td>\n",
       "      <td>2016</td>\n",
       "      <td>0.1319</td>\n",
       "    </tr>\n",
       "    <tr>\n",
       "      <th>7</th>\n",
       "      <td>A</td>\n",
       "      <td>2017</td>\n",
       "      <td>0.4535</td>\n",
       "    </tr>\n",
       "    <tr>\n",
       "      <th>8</th>\n",
       "      <td>A</td>\n",
       "      <td>2018</td>\n",
       "      <td>0.0072</td>\n",
       "    </tr>\n",
       "    <tr>\n",
       "      <th>...</th>\n",
       "      <td>...</td>\n",
       "      <td>...</td>\n",
       "      <td>...</td>\n",
       "    </tr>\n",
       "    <tr>\n",
       "      <th>7181</th>\n",
       "      <td>ZTS</td>\n",
       "      <td>2020</td>\n",
       "      <td>0.2409</td>\n",
       "    </tr>\n",
       "    <tr>\n",
       "      <th>7182</th>\n",
       "      <td>ZTS</td>\n",
       "      <td>2021</td>\n",
       "      <td>0.4999</td>\n",
       "    </tr>\n",
       "    <tr>\n",
       "      <th>7183</th>\n",
       "      <td>ZTS</td>\n",
       "      <td>2022</td>\n",
       "      <td>-0.3692</td>\n",
       "    </tr>\n",
       "    <tr>\n",
       "      <th>7184</th>\n",
       "      <td>ZTS</td>\n",
       "      <td>2023</td>\n",
       "      <td>0.3563</td>\n",
       "    </tr>\n",
       "    <tr>\n",
       "      <th>7185</th>\n",
       "      <td>ZTS</td>\n",
       "      <td>2024</td>\n",
       "      <td>-0.0934</td>\n",
       "    </tr>\n",
       "  </tbody>\n",
       "</table>\n",
       "<p>5383 rows × 3 columns</p>\n",
       "</div>"
      ],
      "text/plain": [
       "     symbol  year  annual_return\n",
       "4         A  2014         0.0254\n",
       "5         A  2015         0.0418\n",
       "6         A  2016         0.1319\n",
       "7         A  2017         0.4535\n",
       "8         A  2018         0.0072\n",
       "...     ...   ...            ...\n",
       "7181    ZTS  2020         0.2409\n",
       "7182    ZTS  2021         0.4999\n",
       "7183    ZTS  2022        -0.3692\n",
       "7184    ZTS  2023         0.3563\n",
       "7185    ZTS  2024        -0.0934\n",
       "\n",
       "[5383 rows x 3 columns]"
      ]
     },
     "execution_count": 32,
     "metadata": {},
     "output_type": "execute_result"
    }
   ],
   "source": [
    "annual_returns"
   ]
  },
  {
   "cell_type": "code",
   "execution_count": 51,
   "metadata": {},
   "outputs": [
    {
     "data": {
      "text/html": [
       "<div>\n",
       "<style scoped>\n",
       "    .dataframe tbody tr th:only-of-type {\n",
       "        vertical-align: middle;\n",
       "    }\n",
       "\n",
       "    .dataframe tbody tr th {\n",
       "        vertical-align: top;\n",
       "    }\n",
       "\n",
       "    .dataframe thead th {\n",
       "        text-align: right;\n",
       "    }\n",
       "</style>\n",
       "<table border=\"1\" class=\"dataframe\">\n",
       "  <thead>\n",
       "    <tr style=\"text-align: right;\">\n",
       "      <th></th>\n",
       "      <th>symbol</th>\n",
       "      <th>year</th>\n",
       "      <th>annual_return</th>\n",
       "    </tr>\n",
       "  </thead>\n",
       "  <tbody>\n",
       "    <tr>\n",
       "      <th>4</th>\n",
       "      <td>A</td>\n",
       "      <td>2014</td>\n",
       "      <td>0.0254</td>\n",
       "    </tr>\n",
       "    <tr>\n",
       "      <th>5</th>\n",
       "      <td>A</td>\n",
       "      <td>2015</td>\n",
       "      <td>0.0418</td>\n",
       "    </tr>\n",
       "    <tr>\n",
       "      <th>6</th>\n",
       "      <td>A</td>\n",
       "      <td>2016</td>\n",
       "      <td>0.1319</td>\n",
       "    </tr>\n",
       "    <tr>\n",
       "      <th>7</th>\n",
       "      <td>A</td>\n",
       "      <td>2017</td>\n",
       "      <td>0.4535</td>\n",
       "    </tr>\n",
       "    <tr>\n",
       "      <th>8</th>\n",
       "      <td>A</td>\n",
       "      <td>2018</td>\n",
       "      <td>0.0072</td>\n",
       "    </tr>\n",
       "    <tr>\n",
       "      <th>...</th>\n",
       "      <td>...</td>\n",
       "      <td>...</td>\n",
       "      <td>...</td>\n",
       "    </tr>\n",
       "    <tr>\n",
       "      <th>7181</th>\n",
       "      <td>ZTS</td>\n",
       "      <td>2020</td>\n",
       "      <td>0.2409</td>\n",
       "    </tr>\n",
       "    <tr>\n",
       "      <th>7182</th>\n",
       "      <td>ZTS</td>\n",
       "      <td>2021</td>\n",
       "      <td>0.4999</td>\n",
       "    </tr>\n",
       "    <tr>\n",
       "      <th>7183</th>\n",
       "      <td>ZTS</td>\n",
       "      <td>2022</td>\n",
       "      <td>-0.3692</td>\n",
       "    </tr>\n",
       "    <tr>\n",
       "      <th>7184</th>\n",
       "      <td>ZTS</td>\n",
       "      <td>2023</td>\n",
       "      <td>0.3563</td>\n",
       "    </tr>\n",
       "    <tr>\n",
       "      <th>7185</th>\n",
       "      <td>ZTS</td>\n",
       "      <td>2024</td>\n",
       "      <td>-0.0934</td>\n",
       "    </tr>\n",
       "  </tbody>\n",
       "</table>\n",
       "<p>5383 rows × 3 columns</p>\n",
       "</div>"
      ],
      "text/plain": [
       "     symbol  year  annual_return\n",
       "4         A  2014         0.0254\n",
       "5         A  2015         0.0418\n",
       "6         A  2016         0.1319\n",
       "7         A  2017         0.4535\n",
       "8         A  2018         0.0072\n",
       "...     ...   ...            ...\n",
       "7181    ZTS  2020         0.2409\n",
       "7182    ZTS  2021         0.4999\n",
       "7183    ZTS  2022        -0.3692\n",
       "7184    ZTS  2023         0.3563\n",
       "7185    ZTS  2024        -0.0934\n",
       "\n",
       "[5383 rows x 3 columns]"
      ]
     },
     "execution_count": 51,
     "metadata": {},
     "output_type": "execute_result"
    }
   ],
   "source": [
    "annual_returns"
   ]
  },
  {
   "cell_type": "code",
   "execution_count": 33,
   "metadata": {},
   "outputs": [
    {
     "data": {
      "text/html": [
       "<div>\n",
       "<style scoped>\n",
       "    .dataframe tbody tr th:only-of-type {\n",
       "        vertical-align: middle;\n",
       "    }\n",
       "\n",
       "    .dataframe tbody tr th {\n",
       "        vertical-align: top;\n",
       "    }\n",
       "\n",
       "    .dataframe thead th {\n",
       "        text-align: right;\n",
       "    }\n",
       "</style>\n",
       "<table border=\"1\" class=\"dataframe\">\n",
       "  <thead>\n",
       "    <tr style=\"text-align: right;\">\n",
       "      <th></th>\n",
       "      <th>symbol</th>\n",
       "      <th>year</th>\n",
       "      <th>annual_return</th>\n",
       "    </tr>\n",
       "  </thead>\n",
       "  <tbody>\n",
       "    <tr>\n",
       "      <th>5943</th>\n",
       "      <td>SP500</td>\n",
       "      <td>2014</td>\n",
       "      <td>-0.0007</td>\n",
       "    </tr>\n",
       "    <tr>\n",
       "      <th>5944</th>\n",
       "      <td>SP500</td>\n",
       "      <td>2015</td>\n",
       "      <td>-0.0069</td>\n",
       "    </tr>\n",
       "    <tr>\n",
       "      <th>5945</th>\n",
       "      <td>SP500</td>\n",
       "      <td>2016</td>\n",
       "      <td>0.1124</td>\n",
       "    </tr>\n",
       "    <tr>\n",
       "      <th>5946</th>\n",
       "      <td>SP500</td>\n",
       "      <td>2017</td>\n",
       "      <td>0.1842</td>\n",
       "    </tr>\n",
       "    <tr>\n",
       "      <th>5947</th>\n",
       "      <td>SP500</td>\n",
       "      <td>2018</td>\n",
       "      <td>-0.0701</td>\n",
       "    </tr>\n",
       "    <tr>\n",
       "      <th>5948</th>\n",
       "      <td>SP500</td>\n",
       "      <td>2019</td>\n",
       "      <td>0.2871</td>\n",
       "    </tr>\n",
       "    <tr>\n",
       "      <th>5949</th>\n",
       "      <td>SP500</td>\n",
       "      <td>2020</td>\n",
       "      <td>0.1529</td>\n",
       "    </tr>\n",
       "    <tr>\n",
       "      <th>5950</th>\n",
       "      <td>SP500</td>\n",
       "      <td>2021</td>\n",
       "      <td>0.2879</td>\n",
       "    </tr>\n",
       "    <tr>\n",
       "      <th>5951</th>\n",
       "      <td>SP500</td>\n",
       "      <td>2022</td>\n",
       "      <td>-0.1995</td>\n",
       "    </tr>\n",
       "    <tr>\n",
       "      <th>5952</th>\n",
       "      <td>SP500</td>\n",
       "      <td>2023</td>\n",
       "      <td>0.2473</td>\n",
       "    </tr>\n",
       "    <tr>\n",
       "      <th>5953</th>\n",
       "      <td>SP500</td>\n",
       "      <td>2024</td>\n",
       "      <td>0.2809</td>\n",
       "    </tr>\n",
       "  </tbody>\n",
       "</table>\n",
       "</div>"
      ],
      "text/plain": [
       "     symbol  year  annual_return\n",
       "5943  SP500  2014        -0.0007\n",
       "5944  SP500  2015        -0.0069\n",
       "5945  SP500  2016         0.1124\n",
       "5946  SP500  2017         0.1842\n",
       "5947  SP500  2018        -0.0701\n",
       "5948  SP500  2019         0.2871\n",
       "5949  SP500  2020         0.1529\n",
       "5950  SP500  2021         0.2879\n",
       "5951  SP500  2022        -0.1995\n",
       "5952  SP500  2023         0.2473\n",
       "5953  SP500  2024         0.2809"
      ]
     },
     "execution_count": 33,
     "metadata": {},
     "output_type": "execute_result"
    }
   ],
   "source": [
    "annual_returns[annual_returns['symbol'] == \"SP500\"]"
   ]
  },
  {
   "cell_type": "code",
   "execution_count": null,
   "metadata": {},
   "outputs": [],
   "source": [
    "# Saved as CSV. \n",
    "# annual_returns.to_csv('annual_returns.csv')"
   ]
  },
  {
   "cell_type": "markdown",
   "metadata": {},
   "source": [
    "FUNCTION TO ADD. "
   ]
  },
  {
   "cell_type": "code",
   "execution_count": 35,
   "metadata": {},
   "outputs": [],
   "source": [
    "import matplotlib.pyplot as plt\n",
    "\n",
    "def annual_return_plot(annual_returns, stock='SP500'):\n",
    "    # Filter the DataFrame for both the selected symbol (stock) and SP500\n",
    "    symbols_to_plot = annual_returns[annual_returns[\"symbol\"].isin([stock, 'SP500'])]\n",
    "    \n",
    "    # If no data is found for the selected stock or SP500, print a warning and exit the function\n",
    "    if symbols_to_plot.empty:\n",
    "        print(f\"⚠️ No data available for {stock} or SP500.\")\n",
    "        return\n",
    "    \n",
    "    # Pivot the DataFrame to structure it for plotting: \n",
    "    # Index will be the 'year', columns will be the 'symbol', and values will be the 'annual_return'\n",
    "    df_pivot = symbols_to_plot.pivot(index=\"year\", columns=\"symbol\", values=\"annual_return\")\n",
    "    \n",
    "    # Define custom colors: SP500 will always be red, and the selected stock will be blue\n",
    "    colors = {'SP500': '#FF0000', stock: '#0000FF'}\n",
    "\n",
    "    # Create the plot\n",
    "    plt.figure(figsize=(12, 6))\n",
    "\n",
    "    # Plot the annual return data for the selected symbol and SP500 over the years\n",
    "    for i, symbol in enumerate(df_pivot.columns):\n",
    "        plt.plot(df_pivot.index, df_pivot[symbol], marker='o', label=symbol, color=colors[symbol])\n",
    "\n",
    "    # Title and labels for the plot\n",
    "    plt.title(f\"Annual Return Comparison: {stock} vs SP500\", fontsize=14, fontweight='bold', color=\"#5F9EA0\")\n",
    "    plt.xlabel(\"Year\", fontsize=12, fontweight='bold', color=\"#1E90FF\")\n",
    "    plt.ylabel(\"Annual Return (%)\", fontsize=12, fontweight='bold', color=\"#4682B4\")\n",
    "    plt.legend(title=\"Symbol\", title_fontsize=12, fontsize=10)\n",
    "    plt.grid(True, linestyle=\"--\", alpha=0.6)\n",
    "\n",
    "    # Show the plot\n",
    "    plt.show()\n"
   ]
  },
  {
   "cell_type": "code",
   "execution_count": 36,
   "metadata": {},
   "outputs": [
    {
     "data": {
      "image/png": "[encoded data removed]",
      "text/plain": [
       "<Figure size 1200x600 with 1 Axes>"
      ]
     },
     "metadata": {},
     "output_type": "display_data"
    }
   ],
   "source": [
    "annual_return_plot(annual_returns, 'MSFT')"
   ]
  },
  {
   "cell_type": "code",
   "execution_count": 1,
   "metadata": {},
   "outputs": [
    {
     "ename": "NameError",
     "evalue": "name 'annual_returns2' is not defined",
     "output_type": "error",
     "traceback": [
      "\u001b[0;31m---------------------------------------------------------------------------\u001b[0m",
      "\u001b[0;31mNameError\u001b[0m                                 Traceback (most recent call last)",
      "Cell \u001b[0;32mIn[1], line 1\u001b[0m\n\u001b[0;32m----> 1\u001b[0m \u001b[43mannual_returns2\u001b[49m\u001b[38;5;241m.\u001b[39mdrop(\u001b[38;5;124m'\u001b[39m\u001b[38;5;124mUnnamed: 0\u001b[39m\u001b[38;5;124m'\u001b[39m, axis\u001b[38;5;241m=\u001b[39m\u001b[38;5;241m1\u001b[39m, inplace\u001b[38;5;241m=\u001b[39m\u001b[38;5;28;01mTrue\u001b[39;00m)\n\u001b[1;32m      2\u001b[0m annual_returns2\n",
      "\u001b[0;31mNameError\u001b[0m: name 'annual_returns2' is not defined"
     ]
    }
   ],
   "source": [
    "annual_returns2.drop('Unnamed: 0', axis=1, inplace=True)\n",
    "annual_returns2"
   ]
  },
  {
   "cell_type": "code",
   "execution_count": null,
   "metadata": {},
   "outputs": [],
   "source": [
    "annual_returns2 = annual_returns.pivot(index='symbol', columns='year', values='annual_return')\n",
    "annual_returns2"
   ]
  },
  {
   "cell_type": "markdown",
   "metadata": {},
   "source": [
    "<h3 style=\"color: #4682B4;\"> 2.5 | Moving target to the right </h3>"
   ]
  },
  {
   "cell_type": "code",
   "execution_count": null,
   "metadata": {},
   "outputs": [],
   "source": []
  },
  {
   "cell_type": "markdown",
   "metadata": {},
   "source": [
    "# <h2 style=\"color: #4C9F70;\"> 03 | EDA (Exploratory Data Analysis) </h2>"
   ]
  },
  {
   "cell_type": "markdown",
   "metadata": {},
   "source": [
    "<h3 style=\"color: #4682B4;\">3.1 | Descriptive Statistics </h3>"
   ]
  },
  {
   "cell_type": "code",
   "execution_count": 53,
   "metadata": {},
   "outputs": [],
   "source": [
    "info_df = pd.read_csv('plan_yahoo/extrainfo.csv')"
   ]
  },
  {
   "cell_type": "code",
   "execution_count": 54,
   "metadata": {},
   "outputs": [
    {
     "data": {
      "text/html": [
       "<div>\n",
       "<style scoped>\n",
       "    .dataframe tbody tr th:only-of-type {\n",
       "        vertical-align: middle;\n",
       "    }\n",
       "\n",
       "    .dataframe tbody tr th {\n",
       "        vertical-align: top;\n",
       "    }\n",
       "\n",
       "    .dataframe thead th {\n",
       "        text-align: right;\n",
       "    }\n",
       "</style>\n",
       "<table border=\"1\" class=\"dataframe\">\n",
       "  <thead>\n",
       "    <tr style=\"text-align: right;\">\n",
       "      <th></th>\n",
       "      <th>Unnamed: 0</th>\n",
       "      <th>currency</th>\n",
       "      <th>symbol</th>\n",
       "      <th>exchangeName</th>\n",
       "      <th>fullExchangeName</th>\n",
       "      <th>instrumentType</th>\n",
       "      <th>firstTradeDate</th>\n",
       "      <th>regularMarketTime</th>\n",
       "      <th>hasPrePostMarketData</th>\n",
       "      <th>gmtoffset</th>\n",
       "      <th>...</th>\n",
       "      <th>regularMarketPrice</th>\n",
       "      <th>fiftyTwoWeekHigh</th>\n",
       "      <th>fiftyTwoWeekLow</th>\n",
       "      <th>regularMarketDayHigh</th>\n",
       "      <th>regularMarketDayLow</th>\n",
       "      <th>regularMarketVolume</th>\n",
       "      <th>longName</th>\n",
       "      <th>shortName</th>\n",
       "      <th>chartPreviousClose</th>\n",
       "      <th>priceHint</th>\n",
       "    </tr>\n",
       "  </thead>\n",
       "  <tbody>\n",
       "    <tr>\n",
       "      <th>0</th>\n",
       "      <td>0</td>\n",
       "      <td>USD</td>\n",
       "      <td>MMM</td>\n",
       "      <td>NYQ</td>\n",
       "      <td>NYSE</td>\n",
       "      <td>EQUITY</td>\n",
       "      <td>-252322200</td>\n",
       "      <td>1738962002</td>\n",
       "      <td>True</td>\n",
       "      <td>-18000</td>\n",
       "      <td>...</td>\n",
       "      <td>149.870</td>\n",
       "      <td>155.00</td>\n",
       "      <td>75.652</td>\n",
       "      <td>152.900</td>\n",
       "      <td>149.550</td>\n",
       "      <td>2741900</td>\n",
       "      <td>3M Company</td>\n",
       "      <td>3M Company</td>\n",
       "      <td>3.475</td>\n",
       "      <td>2</td>\n",
       "    </tr>\n",
       "    <tr>\n",
       "      <th>1</th>\n",
       "      <td>1</td>\n",
       "      <td>USD</td>\n",
       "      <td>AOS</td>\n",
       "      <td>NYQ</td>\n",
       "      <td>NYSE</td>\n",
       "      <td>EQUITY</td>\n",
       "      <td>433776600</td>\n",
       "      <td>1738962002</td>\n",
       "      <td>True</td>\n",
       "      <td>-18000</td>\n",
       "      <td>...</td>\n",
       "      <td>65.160</td>\n",
       "      <td>92.45</td>\n",
       "      <td>64.940</td>\n",
       "      <td>66.210</td>\n",
       "      <td>65.050</td>\n",
       "      <td>1175632</td>\n",
       "      <td>A. O. Smith Corporation</td>\n",
       "      <td>A.O. Smith Corporation</td>\n",
       "      <td>1.083</td>\n",
       "      <td>2</td>\n",
       "    </tr>\n",
       "    <tr>\n",
       "      <th>2</th>\n",
       "      <td>2</td>\n",
       "      <td>USD</td>\n",
       "      <td>ABT</td>\n",
       "      <td>NYQ</td>\n",
       "      <td>NYSE</td>\n",
       "      <td>EQUITY</td>\n",
       "      <td>322151400</td>\n",
       "      <td>1738962002</td>\n",
       "      <td>True</td>\n",
       "      <td>-18000</td>\n",
       "      <td>...</td>\n",
       "      <td>129.070</td>\n",
       "      <td>132.50</td>\n",
       "      <td>99.710</td>\n",
       "      <td>129.490</td>\n",
       "      <td>128.330</td>\n",
       "      <td>6234761</td>\n",
       "      <td>Abbott Laboratories</td>\n",
       "      <td>Abbott Laboratories</td>\n",
       "      <td>0.502</td>\n",
       "      <td>2</td>\n",
       "    </tr>\n",
       "    <tr>\n",
       "      <th>3</th>\n",
       "      <td>3</td>\n",
       "      <td>USD</td>\n",
       "      <td>ABBV</td>\n",
       "      <td>NYQ</td>\n",
       "      <td>NYSE</td>\n",
       "      <td>EQUITY</td>\n",
       "      <td>1357137000</td>\n",
       "      <td>1738962002</td>\n",
       "      <td>True</td>\n",
       "      <td>-18000</td>\n",
       "      <td>...</td>\n",
       "      <td>190.600</td>\n",
       "      <td>207.32</td>\n",
       "      <td>153.580</td>\n",
       "      <td>193.860</td>\n",
       "      <td>190.435</td>\n",
       "      <td>3787120</td>\n",
       "      <td>AbbVie Inc.</td>\n",
       "      <td>AbbVie Inc.</td>\n",
       "      <td>35.120</td>\n",
       "      <td>2</td>\n",
       "    </tr>\n",
       "    <tr>\n",
       "      <th>4</th>\n",
       "      <td>4</td>\n",
       "      <td>USD</td>\n",
       "      <td>ACN</td>\n",
       "      <td>NYQ</td>\n",
       "      <td>NYSE</td>\n",
       "      <td>EQUITY</td>\n",
       "      <td>995549400</td>\n",
       "      <td>1738962002</td>\n",
       "      <td>True</td>\n",
       "      <td>-18000</td>\n",
       "      <td>...</td>\n",
       "      <td>385.980</td>\n",
       "      <td>398.35</td>\n",
       "      <td>278.690</td>\n",
       "      <td>390.530</td>\n",
       "      <td>385.360</td>\n",
       "      <td>1734937</td>\n",
       "      <td>Accenture plc</td>\n",
       "      <td>Accenture plc</td>\n",
       "      <td>15.170</td>\n",
       "      <td>2</td>\n",
       "    </tr>\n",
       "    <tr>\n",
       "      <th>...</th>\n",
       "      <td>...</td>\n",
       "      <td>...</td>\n",
       "      <td>...</td>\n",
       "      <td>...</td>\n",
       "      <td>...</td>\n",
       "      <td>...</td>\n",
       "      <td>...</td>\n",
       "      <td>...</td>\n",
       "      <td>...</td>\n",
       "      <td>...</td>\n",
       "      <td>...</td>\n",
       "      <td>...</td>\n",
       "      <td>...</td>\n",
       "      <td>...</td>\n",
       "      <td>...</td>\n",
       "      <td>...</td>\n",
       "      <td>...</td>\n",
       "      <td>...</td>\n",
       "      <td>...</td>\n",
       "      <td>...</td>\n",
       "      <td>...</td>\n",
       "    </tr>\n",
       "    <tr>\n",
       "      <th>463</th>\n",
       "      <td>463</td>\n",
       "      <td>USD</td>\n",
       "      <td>XYL</td>\n",
       "      <td>NYQ</td>\n",
       "      <td>NYSE</td>\n",
       "      <td>EQUITY</td>\n",
       "      <td>1318512600</td>\n",
       "      <td>1739198273</td>\n",
       "      <td>True</td>\n",
       "      <td>-18000</td>\n",
       "      <td>...</td>\n",
       "      <td>131.295</td>\n",
       "      <td>146.08</td>\n",
       "      <td>113.260</td>\n",
       "      <td>131.945</td>\n",
       "      <td>131.040</td>\n",
       "      <td>152337</td>\n",
       "      <td>Xylem Inc.</td>\n",
       "      <td>Xylem Inc.</td>\n",
       "      <td>24.250</td>\n",
       "      <td>2</td>\n",
       "    </tr>\n",
       "    <tr>\n",
       "      <th>464</th>\n",
       "      <td>464</td>\n",
       "      <td>USD</td>\n",
       "      <td>YUM</td>\n",
       "      <td>NYQ</td>\n",
       "      <td>NYSE</td>\n",
       "      <td>EQUITY</td>\n",
       "      <td>874503000</td>\n",
       "      <td>1739198310</td>\n",
       "      <td>True</td>\n",
       "      <td>-18000</td>\n",
       "      <td>...</td>\n",
       "      <td>144.305</td>\n",
       "      <td>144.96</td>\n",
       "      <td>122.130</td>\n",
       "      <td>144.960</td>\n",
       "      <td>144.045</td>\n",
       "      <td>81579</td>\n",
       "      <td>Yum! Brands, Inc.</td>\n",
       "      <td>Yum! Brands, Inc.</td>\n",
       "      <td>5.235</td>\n",
       "      <td>2</td>\n",
       "    </tr>\n",
       "    <tr>\n",
       "      <th>465</th>\n",
       "      <td>465</td>\n",
       "      <td>USD</td>\n",
       "      <td>ZBRA</td>\n",
       "      <td>NMS</td>\n",
       "      <td>NasdaqGS</td>\n",
       "      <td>EQUITY</td>\n",
       "      <td>682263000</td>\n",
       "      <td>1739198246</td>\n",
       "      <td>True</td>\n",
       "      <td>-18000</td>\n",
       "      <td>...</td>\n",
       "      <td>362.270</td>\n",
       "      <td>427.76</td>\n",
       "      <td>243.490</td>\n",
       "      <td>365.430</td>\n",
       "      <td>362.270</td>\n",
       "      <td>28886</td>\n",
       "      <td>Zebra Technologies Corporation</td>\n",
       "      <td>Zebra Technologies Corporation</td>\n",
       "      <td>4.056</td>\n",
       "      <td>2</td>\n",
       "    </tr>\n",
       "    <tr>\n",
       "      <th>466</th>\n",
       "      <td>466</td>\n",
       "      <td>USD</td>\n",
       "      <td>ZBH</td>\n",
       "      <td>NYQ</td>\n",
       "      <td>NYSE</td>\n",
       "      <td>EQUITY</td>\n",
       "      <td>996067800</td>\n",
       "      <td>1739198320</td>\n",
       "      <td>True</td>\n",
       "      <td>-18000</td>\n",
       "      <td>...</td>\n",
       "      <td>100.700</td>\n",
       "      <td>133.90</td>\n",
       "      <td>99.930</td>\n",
       "      <td>101.570</td>\n",
       "      <td>100.700</td>\n",
       "      <td>35930</td>\n",
       "      <td>Zimmer Biomet Holdings, Inc.</td>\n",
       "      <td>Zimmer Biomet Holdings, Inc.</td>\n",
       "      <td>28.893</td>\n",
       "      <td>2</td>\n",
       "    </tr>\n",
       "    <tr>\n",
       "      <th>467</th>\n",
       "      <td>467</td>\n",
       "      <td>USD</td>\n",
       "      <td>ZTS</td>\n",
       "      <td>NYQ</td>\n",
       "      <td>NYSE</td>\n",
       "      <td>EQUITY</td>\n",
       "      <td>1359729000</td>\n",
       "      <td>1739198303</td>\n",
       "      <td>True</td>\n",
       "      <td>-18000</td>\n",
       "      <td>...</td>\n",
       "      <td>171.180</td>\n",
       "      <td>200.53</td>\n",
       "      <td>144.800</td>\n",
       "      <td>171.740</td>\n",
       "      <td>170.520</td>\n",
       "      <td>95208</td>\n",
       "      <td>Zoetis Inc.</td>\n",
       "      <td>Zoetis Inc.</td>\n",
       "      <td>31.010</td>\n",
       "      <td>2</td>\n",
       "    </tr>\n",
       "  </tbody>\n",
       "</table>\n",
       "<p>468 rows × 22 columns</p>\n",
       "</div>"
      ],
      "text/plain": [
       "     Unnamed: 0 currency symbol exchangeName fullExchangeName instrumentType  \\\n",
       "0             0      USD    MMM          NYQ             NYSE         EQUITY   \n",
       "1             1      USD    AOS          NYQ             NYSE         EQUITY   \n",
       "2             2      USD    ABT          NYQ             NYSE         EQUITY   \n",
       "3             3      USD   ABBV          NYQ             NYSE         EQUITY   \n",
       "4             4      USD    ACN          NYQ             NYSE         EQUITY   \n",
       "..          ...      ...    ...          ...              ...            ...   \n",
       "463         463      USD    XYL          NYQ             NYSE         EQUITY   \n",
       "464         464      USD    YUM          NYQ             NYSE         EQUITY   \n",
       "465         465      USD   ZBRA          NMS         NasdaqGS         EQUITY   \n",
       "466         466      USD    ZBH          NYQ             NYSE         EQUITY   \n",
       "467         467      USD    ZTS          NYQ             NYSE         EQUITY   \n",
       "\n",
       "     firstTradeDate  regularMarketTime  hasPrePostMarketData  gmtoffset  ...  \\\n",
       "0        -252322200         1738962002                  True     -18000  ...   \n",
       "1         433776600         1738962002                  True     -18000  ...   \n",
       "2         322151400         1738962002                  True     -18000  ...   \n",
       "3        1357137000         1738962002                  True     -18000  ...   \n",
       "4         995549400         1738962002                  True     -18000  ...   \n",
       "..              ...                ...                   ...        ...  ...   \n",
       "463      1318512600         1739198273                  True     -18000  ...   \n",
       "464       874503000         1739198310                  True     -18000  ...   \n",
       "465       682263000         1739198246                  True     -18000  ...   \n",
       "466       996067800         1739198320                  True     -18000  ...   \n",
       "467      1359729000         1739198303                  True     -18000  ...   \n",
       "\n",
       "    regularMarketPrice fiftyTwoWeekHigh  fiftyTwoWeekLow  \\\n",
       "0              149.870           155.00           75.652   \n",
       "1               65.160            92.45           64.940   \n",
       "2              129.070           132.50           99.710   \n",
       "3              190.600           207.32          153.580   \n",
       "4              385.980           398.35          278.690   \n",
       "..                 ...              ...              ...   \n",
       "463            131.295           146.08          113.260   \n",
       "464            144.305           144.96          122.130   \n",
       "465            362.270           427.76          243.490   \n",
       "466            100.700           133.90           99.930   \n",
       "467            171.180           200.53          144.800   \n",
       "\n",
       "     regularMarketDayHigh  regularMarketDayLow  regularMarketVolume  \\\n",
       "0                 152.900              149.550              2741900   \n",
       "1                  66.210               65.050              1175632   \n",
       "2                 129.490              128.330              6234761   \n",
       "3                 193.860              190.435              3787120   \n",
       "4                 390.530              385.360              1734937   \n",
       "..                    ...                  ...                  ...   \n",
       "463               131.945              131.040               152337   \n",
       "464               144.960              144.045                81579   \n",
       "465               365.430              362.270                28886   \n",
       "466               101.570              100.700                35930   \n",
       "467               171.740              170.520                95208   \n",
       "\n",
       "                           longName                       shortName  \\\n",
       "0                        3M Company                      3M Company   \n",
       "1           A. O. Smith Corporation          A.O. Smith Corporation   \n",
       "2               Abbott Laboratories             Abbott Laboratories   \n",
       "3                       AbbVie Inc.                     AbbVie Inc.   \n",
       "4                     Accenture plc                   Accenture plc   \n",
       "..                              ...                             ...   \n",
       "463                      Xylem Inc.                      Xylem Inc.   \n",
       "464               Yum! Brands, Inc.               Yum! Brands, Inc.   \n",
       "465  Zebra Technologies Corporation  Zebra Technologies Corporation   \n",
       "466    Zimmer Biomet Holdings, Inc.    Zimmer Biomet Holdings, Inc.   \n",
       "467                     Zoetis Inc.                     Zoetis Inc.   \n",
       "\n",
       "    chartPreviousClose priceHint  \n",
       "0                3.475         2  \n",
       "1                1.083         2  \n",
       "2                0.502         2  \n",
       "3               35.120         2  \n",
       "4               15.170         2  \n",
       "..                 ...       ...  \n",
       "463             24.250         2  \n",
       "464              5.235         2  \n",
       "465              4.056         2  \n",
       "466             28.893         2  \n",
       "467             31.010         2  \n",
       "\n",
       "[468 rows x 22 columns]"
      ]
     },
     "execution_count": 54,
     "metadata": {},
     "output_type": "execute_result"
    }
   ],
   "source": [
    "info_df"
   ]
  },
  {
   "cell_type": "code",
   "execution_count": 55,
   "metadata": {},
   "outputs": [
    {
     "data": {
      "text/plain": [
       "Index(['Unnamed: 0', 'currency', 'symbol', 'exchangeName', 'fullExchangeName',\n",
       "       'instrumentType', 'firstTradeDate', 'regularMarketTime',\n",
       "       'hasPrePostMarketData', 'gmtoffset', 'timezone', 'exchangeTimezoneName',\n",
       "       'regularMarketPrice', 'fiftyTwoWeekHigh', 'fiftyTwoWeekLow',\n",
       "       'regularMarketDayHigh', 'regularMarketDayLow', 'regularMarketVolume',\n",
       "       'longName', 'shortName', 'chartPreviousClose', 'priceHint'],\n",
       "      dtype='object')"
      ]
     },
     "execution_count": 55,
     "metadata": {},
     "output_type": "execute_result"
    }
   ],
   "source": [
    "info_df.columns"
   ]
  },
  {
   "cell_type": "markdown",
   "metadata": {},
   "source": [
    "<h3 style=\"color: #4682B4;\"> 3.2 | Univariate & Bivariate Analysis </h3>"
   ]
  },
  {
   "cell_type": "code",
   "execution_count": null,
   "metadata": {},
   "outputs": [],
   "source": []
  },
  {
   "cell_type": "markdown",
   "metadata": {},
   "source": [
    "<h4 style=\"color: #D2691E;\"> 3.2.1 | Categorical Variables </h4>"
   ]
  },
  {
   "cell_type": "code",
   "execution_count": null,
   "metadata": {},
   "outputs": [],
   "source": [
    "frequency_table = cat.sector.value_counts()\n",
    "proportion_table = cat.sector.value_counts(normalize=True)"
   ]
  },
  {
   "cell_type": "code",
   "execution_count": null,
   "metadata": {},
   "outputs": [],
   "source": [
    "frequency_proportion = pd.concat([frequency_table,proportion_table], axis = 1)\n",
    "frequency_proportion.columns = ['absolute_frequency', 'relative_frequency']"
   ]
  },
  {
   "cell_type": "code",
   "execution_count": null,
   "metadata": {},
   "outputs": [],
   "source": [
    "total_absolute = frequency_table.sum()\n",
    "total_relative = proportion_table.sum()\n"
   ]
  },
  {
   "cell_type": "code",
   "execution_count": null,
   "metadata": {},
   "outputs": [],
   "source": [
    "total_row = pd.DataFrame({\n",
    "    'absolute_frequency': [total_absolute],\n",
    "    'relative_frequency': [total_relative]\n",
    "}, index=['Total'])"
   ]
  },
  {
   "cell_type": "code",
   "execution_count": null,
   "metadata": {},
   "outputs": [],
   "source": [
    "df3 = pd.concat([frequency_proportion, total_row])\n",
    "df3"
   ]
  },
  {
   "cell_type": "code",
   "execution_count": null,
   "metadata": {},
   "outputs": [],
   "source": [
    "sns.barplot(\n",
    "    x='sector',\n",
    "    y='absolute_frequency',\n",
    "    data=frequency_proportion,\n",
    "    palette='viridis',\n",
    ")\n",
    "plt.ylabel('Count')\n",
    "plt.xticks(rotation=45, ha='right')\n",
    "plt.show()"
   ]
  },
  {
   "cell_type": "markdown",
   "metadata": {},
   "source": [
    "The frequency table gives the count of each sector, while the proportion table provides the percentage representation of each category in the dataset. This helps to quickly identify dominant and minority categories. Such as:\n",
    "- Technology: 16% \n",
    "- Industrials: 14% \n",
    "- Financial Services: 13% \n",
    "- Healthcare: 12% \n",
    "- Consumer Cyclical: 10% "
   ]
  },
  {
   "cell_type": "markdown",
   "metadata": {},
   "source": [
    "<h4 style=\"color: #D2691E;\"> 3.2.2 | Numerical Variables </h4>"
   ]
  },
  {
   "cell_type": "code",
   "execution_count": null,
   "metadata": {},
   "outputs": [],
   "source": [
    "definitive['currentprice'].describe()"
   ]
  },
  {
   "cell_type": "markdown",
   "metadata": {},
   "source": [
    "**Insights** from Summary Statistics for `currentprice`:\n",
    "\n",
    "- The average (**mean**) sale price of the stock in the dataset is approximately **$230.29**. This represents the central tendency of the prices.\n",
    "\n",
    "- The **median** sale price is **$126.82**. Notably, the median is significantly lower than the mean, suggesting that the distribution of stock prices is skewed towards higher values (positively-skewed).\n",
    "\n",
    "- The **standard deviation**, which measures the variation or spread of prices, is **$521.99**. This large value indicates a high level of variability in stock prices, suggesting that prices are widely dispersed from the mean.\n",
    "\n",
    "- The **minimum** and **maximum** prices are **$8.56** and **$8946.33**, respectively. This extreme range highlights that the dataset includes stocks with both very low and very high prices.\n",
    "\n",
    "- The **interquartile range (IQR)**, representing the middle 50% of the prices, lies between $71.54 (Q1) and $239.19 (Q3). This means that 50% of the stock prices fall within this range, providing a clearer picture of the typical stock price distribution without being influenced by outliers.\n",
    "\n",
    "**Additional Note:**\n",
    "The significant difference between the mean and median, combined with the large standard deviation, suggests the presence of outliers or high-value stocks that push the mean upwards. This highlights the importance of focusing on the IQR for understanding the core stock price range."
   ]
  },
  {
   "cell_type": "code",
   "execution_count": null,
   "metadata": {},
   "outputs": [],
   "source": [
    "definitive.currentprice.skew().round(2)"
   ]
  },
  {
   "cell_type": "code",
   "execution_count": null,
   "metadata": {},
   "outputs": [],
   "source": [
    "\n",
    "definitive.currentprice.kurtosis().round(2)"
   ]
  },
  {
   "cell_type": "code",
   "execution_count": null,
   "metadata": {},
   "outputs": [],
   "source": [
    "d2 = sns.displot(data=definitive, x='currentprice', kde=True, height=6, aspect=1.5, bins=100, binrange=(0, 2100), color='mediumpurple')\n",
    "d2.set(xlabel='Current Price')\n",
    "plt.xlim(0, 2100)"
   ]
  },
  {
   "cell_type": "markdown",
   "metadata": {},
   "source": [
    "- Skewness of `currentprice`: \\(11.81\\)\n",
    "- Kurtosis of `currentprice`: \\(174.88\\)\n",
    "\n",
    "**Insights**:\n",
    "\n",
    "1. **Skewness**: The positive value of skewness 11.81 for the 'currentprice' indicates that the distribution is right-skewed. This means that the tail on the right side (higher prices) is longer than the left side (lower prices). In practical terms, this suggests that there are a significant number of stocks that have higher prices, which are acting as outliers and pulling the mean upwards.\n",
    "  \n",
    "2. **Kurtosis**: The kurtosis value of 174.88 indicates that the 'currentprice' distribution has heavier tails and a sharper peak compared to a normal distribution. This means that there are more outliers (extreme values) in the 'currentprice' than one would expect in a normally distributed set."
   ]
  },
  {
   "cell_type": "code",
   "execution_count": null,
   "metadata": {},
   "outputs": [],
   "source": [
    "sns.boxplot(data=num.currentprice)\n",
    "plt.show()"
   ]
  },
  {
   "cell_type": "code",
   "execution_count": null,
   "metadata": {},
   "outputs": [],
   "source": [
    "higher_price = definitive.sort_values(by='currentprice', ascending=False)\n",
    "higher_price.head(4)"
   ]
  },
  {
   "cell_type": "markdown",
   "metadata": {},
   "source": [
    "The box plot for 'currentprice' reveals 4 outstanding outliers that significantly exceed the upper range of typical values. These outliers are stock prices that are far above the third quartile (Q3), suggesting that while most prices fall within a relatively normal range, there are a few extreme high-value stocks.\n",
    "\n",
    "Outliers are detected as values that lie beyond 1.5 times the interquartile range (IQR) above Q3. These extreme values can impact the overall analysis, particularly the mean and standard deviation, causing them to shift upwards.\n",
    "\n",
    "- NVR, Inc: $8946.33\n",
    "\n",
    "- Booking Holdings Inc.: $5300.34\n",
    "\n",
    "- AutoZone Inc. :$3309.44\n",
    "\n",
    "- Fair Isaac Corporation: $2371.83 \n"
   ]
  },
  {
   "cell_type": "markdown",
   "metadata": {},
   "source": [
    "<h4 style=\"color: #D2691E;\"> 3.2.3 | Numerical vs Categorical Variables </h4>"
   ]
  },
  {
   "cell_type": "code",
   "execution_count": null,
   "metadata": {},
   "outputs": [],
   "source": [
    "# Found out in Kaggle related notebooks. \n",
    "f = {'revenuegrowth':['mean'], 'marketcap':['sum'], 'shortname':['count']}\n",
    "\n",
    "sector_breakdown = definitive.groupby('sector').agg(f)\n",
    "sector_breakdown.columns = sector_breakdown.columns.get_level_values(0)\n",
    "sector_breakdown = sector_breakdown.reset_index()\n",
    "sector_breakdown = sector_breakdown.sort_values('shortname', ascending=False)\n",
    "\n",
    "fig = plt.figure(num=None, figsize=(12, 6), dpi=100, facecolor='w', edgecolor='k')\n",
    "\n",
    "plt.subplot(1, 3, 1)\n",
    "ax1 = sns.barplot(x=\"shortname\", y=\"sector\", data=sector_breakdown, palette=('coolwarm'))\n",
    "ax1.set_xlabel('Number of companies', weight='bold')\n",
    "ax1.set_ylabel('sector', weight = 'bold')\n",
    "ax1.set_title('SECTOR BREAKDOWN\\n', weight='bold').set_fontsize('18')\n",
    "\n",
    "plt.subplot(1, 3, 2)\n",
    "ax2 = sns.barplot(x=\"marketcap\", y=\"sector\", data=sector_breakdown, palette=('Wistia'))\n",
    "ax2.set_xlabel('Total Market Cap', weight='bold')\n",
    "ax2.set_ylabel('')\n",
    "ax2.set_yticks([])\n",
    "\n",
    "plt.subplot(1, 3, 3)\n",
    "ax2 = sns.barplot(x=\"revenuegrowth\", y=\"sector\", data=sector_breakdown, palette=('OrRd_r'))\n",
    "ax2.set_xlabel('Revenue Growth', weight='bold')\n",
    "ax2.set_ylabel('')\n",
    "ax2.set_yticks([])\n",
    "\n",
    "sns.despine()\n",
    "plt.tight_layout();"
   ]
  },
  {
   "cell_type": "code",
   "execution_count": null,
   "metadata": {},
   "outputs": [],
   "source": [
    "#Help from thisp part to display the market cap. \n",
    "pd.set_option('display.float_format', '{:.2f}'.format)"
   ]
  },
  {
   "cell_type": "code",
   "execution_count": null,
   "metadata": {},
   "outputs": [],
   "source": [
    "market_bysector = definitive.groupby(\"sector\")[[\"marketcap\", \"revenuegrowth\"]].mean()\n",
    "market_bysector.reset_index()"
   ]
  },
  {
   "cell_type": "code",
   "execution_count": null,
   "metadata": {},
   "outputs": [],
   "source": [
    "sns.violinplot(data=definitive, x='sector', y='revenuegrowth', palette='viridis')\n",
    "plt.xticks(rotation=45, ha='right')\n",
    "plt.show()"
   ]
  },
  {
   "cell_type": "code",
   "execution_count": null,
   "metadata": {},
   "outputs": [],
   "source": [
    "annual_returns = definitive.groupby('sector')[['ar_2015', 'ar_2016', 'ar_2017','ar_2018', 'ar_2019', 'ar_2020','ar_2021','ar_2022','ar_2023','ar_2024' ]].agg(['mean']).round(4)\n",
    "annual_returns"
   ]
  },
  {
   "cell_type": "code",
   "execution_count": null,
   "metadata": {},
   "outputs": [],
   "source": [
    "plt.figure(figsize=(9, 7)) \n",
    "sns.heatmap(annual_returns, annot=True, cmap=\"BuPu\", fmt=\".3f\")\n",
    "plt.show()"
   ]
  },
  {
   "cell_type": "markdown",
   "metadata": {},
   "source": [
    "<h4 style=\"color: #D2691E;\"> 3.2.4 | Continuous vs Continuous Variables </h4>"
   ]
  },
  {
   "cell_type": "code",
   "execution_count": null,
   "metadata": {},
   "outputs": [],
   "source": [
    "sorted_df = defi.sort_values(by=2024, ascending=False)\n",
    "sorted_df = sorted_df.reset_index()\n",
    "sorted_df.columns.name = None\n",
    "sorted_df.head(3)"
   ]
  },
  {
   "cell_type": "code",
   "execution_count": null,
   "metadata": {},
   "outputs": [],
   "source": [
    "# Sampling with. \n",
    "sample_symbols = ['AMZN','PEP','NKE','SP500']\n",
    "sample_df = sorted_df[sorted_df['symbol'].isin(sample_symbols)]\n",
    "# Sampling with. \n",
    "sample_symbols1 = ['MSFT','PEP','NKE','SP500','JPM','XOM']\n",
    "sample_df1 = sorted_df[sorted_df['symbol'].isin(sample_symbols1)]\n",
    "# Sampling with. \n",
    "sample_symbols2 = ['AAPL','MA','WBA','MAR','PEP','SP500','JPM']\n",
    "sample_df2 = sorted_df[sorted_df['symbol'].isin(sample_symbols2)]"
   ]
  },
  {
   "cell_type": "code",
   "execution_count": null,
   "metadata": {},
   "outputs": [],
   "source": [
    "import matplotlib.pyplot as plt\n",
    "\n",
    "# Plot line graph directly\n",
    "plt.figure(figsize=(16, 9))\n",
    "sampling_df = sample_df.copy()\n",
    "# Iterate over each row (symbol) in the DataFrame\n",
    "for index, row in sampling_df.iterrows():\n",
    "    plt.plot(sampling_df.columns[1:], row[1:], marker='o', label=row['symbol'])\n",
    "\n",
    "# Add titles and labels\n",
    "plt.title(\"Annualized Return across different years\", fontsize=13)\n",
    "plt.ylabel(\"Annualized Return\", fontsize=10)\n",
    "plt.xlabel(\"Year\", fontsize=10)\n",
    "plt.xticks(rotation=45, fontsize=8, ha='right')\n",
    "plt.yticks(fontsize=8)\n",
    "plt.grid(axis='x', linestyle=\"--\", alpha=0.7)\n",
    "plt.legend(title=\"Symbols\", fontsize=8)\n",
    "plt.tight_layout()\n",
    "\n",
    "# Show plot\n",
    "plt.show()\n"
   ]
  },
  {
   "cell_type": "code",
   "execution_count": null,
   "metadata": {},
   "outputs": [],
   "source": [
    "import matplotlib.pyplot as plt\n",
    "\n",
    "# Plot line graph directly\n",
    "plt.figure(figsize=(16, 9))\n",
    "sampling_df = sample_df1.copy()\n",
    "# Iterate over each row (symbol) in the DataFrame\n",
    "for index, row in sampling_df.iterrows():\n",
    "    plt.plot(sampling_df.columns[1:], row[1:], marker='o', label=row['symbol'])\n",
    "\n",
    "# Add titles and labels\n",
    "plt.title(\"Annualized Return from different years\", fontsize=13)\n",
    "plt.ylabel(\"Annualized Return\", fontsize=10)\n",
    "plt.xlabel(\"Year\", fontsize=10)\n",
    "plt.xticks(rotation=45, fontsize=8, ha='right')\n",
    "plt.yticks(fontsize=8)\n",
    "plt.grid(axis='x', linestyle=\"--\", alpha=0.7)\n",
    "plt.legend(title=\"Symbols\", fontsize=8)\n",
    "plt.tight_layout()\n",
    "\n",
    "# Show plot\n",
    "plt.show()\n"
   ]
  },
  {
   "cell_type": "code",
   "execution_count": null,
   "metadata": {},
   "outputs": [],
   "source": [
    "import matplotlib.pyplot as plt\n",
    "\n",
    "# Plot line graph directly\n",
    "plt.figure(figsize=(16, 9))\n",
    "sampling_df = sample_df2.copy()\n",
    "# Iterate over each row (symbol) in the DataFrame\n",
    "for index, row in sampling_df.iterrows():\n",
    "    plt.plot(sampling_df.columns[1:], row[1:], marker='o', label=row['symbol'])\n",
    "\n",
    "# Add titles and labels\n",
    "plt.title(\"Annualized Return from different years\", fontsize=13)\n",
    "plt.ylabel(\"Annualized Return\", fontsize=10)\n",
    "plt.xlabel(\"Year\", fontsize=10)\n",
    "plt.xticks(rotation=45, fontsize=8, ha='right')\n",
    "plt.yticks(fontsize=8)\n",
    "plt.grid(axis='x', linestyle=\"--\", alpha=0.7)\n",
    "plt.legend(title=\"Symbols\", fontsize=8)\n",
    "plt.tight_layout()\n",
    "\n",
    "# Show plot\n",
    "plt.show()"
   ]
  },
  {
   "cell_type": "markdown",
   "metadata": {},
   "source": [
    "<h3 style=\"color: #4682B4;\"> 3.3 | Checking Distributions</h3>"
   ]
  },
  {
   "cell_type": "code",
   "execution_count": null,
   "metadata": {},
   "outputs": [],
   "source": [
    "color = '#9370DB'\n",
    "\n",
    "nrows, ncols = 5, 4 \n",
    "\n",
    "fig, axes = plt.subplots(nrows=nrows, ncols=ncols, figsize=(20, 16))\n",
    "\n",
    "axes = axes.flatten()\n",
    "\n",
    "for i, ax in enumerate(axes):\n",
    "    if i >= len(num.columns):\n",
    "        ax.set_visible(False)  # hide unesed plots\n",
    "        continue\n",
    "    ax.hist(num.iloc[:, i], bins=30, color=color, edgecolor='black')\n",
    "    ax.set_title(num.columns[i])\n",
    "\n",
    "plt.tight_layout()\n",
    "plt.show()"
   ]
  },
  {
   "cell_type": "markdown",
   "metadata": {},
   "source": [
    "<h3 style=\"color: #4682B4;\"> 3.4 | Checking our target distribution</h3>"
   ]
  },
  {
   "cell_type": "code",
   "execution_count": null,
   "metadata": {},
   "outputs": [],
   "source": [
    "# Without the filter 650.000 and taking out the outliers. \n",
    "sns.histplot(definitive[\"currentprice\"], color=color, kde=True);"
   ]
  },
  {
   "cell_type": "markdown",
   "metadata": {},
   "source": [
    "<h3 style=\"color: #4682B4;\">3.5 | Looking for Correlations </h3>"
   ]
  },
  {
   "cell_type": "code",
   "execution_count": null,
   "metadata": {},
   "outputs": [],
   "source": [
    "# Calculating the Pearson correlation coefficient between 'currentprice' and 'revenuegrowth'.\n",
    "definitive['currentprice'].corr(definitive['revenuegrowth'])"
   ]
  },
  {
   "cell_type": "code",
   "execution_count": null,
   "metadata": {},
   "outputs": [],
   "source": [
    "# Calculating the Spearman rank correlation between 'currentprice' and 'revenuegrowth'.\n",
    "definitive['currentprice'].corr(definitive['revenuegrowth'], method='spearman')"
   ]
  },
  {
   "cell_type": "markdown",
   "metadata": {},
   "source": [
    "- Pearson Correlation: \\(0.0423\\)\n",
    "- Spearman Correlation: \\(0.2741\\)\n",
    "\n",
    "**Insights:**\n",
    "\n",
    "- The **Pearson correlation** of \\(0.0423\\) suggests a very weak positive linear relationship between currentprice and revenuegrowth. As revenuegrowth increases, currentprice does not show a strong linear increase.\n",
    "  \n",
    "- The **Spearman correlation** of \\(0.2741\\) indicates a weak positive monotonic relationship. This suggests that while higher revenuegrowth tends to correspond with higher currentprice, the relationship is not strongly linear or constant. \n",
    "\n",
    "The slightly higher value for Spearman correlation suggests that there might be some non-linear aspects to their relationship or the presence of outliers affecting the Pearson correlation."
   ]
  },
  {
   "cell_type": "code",
   "execution_count": null,
   "metadata": {},
   "outputs": [],
   "source": [
    "#pearson \n",
    "num.corrwith(definitive['currentprice']).sort_values(ascending=False)"
   ]
  },
  {
   "cell_type": "code",
   "execution_count": null,
   "metadata": {},
   "outputs": [],
   "source": [
    "#Spearman\n",
    "num.corrwith(df['currentprice'], method='spearman').sort_values(ascending=False)[:5]"
   ]
  },
  {
   "cell_type": "markdown",
   "metadata": {},
   "source": [
    "Variables like `ar_2023`, `marketcap`, `weight`, and `ar_2020` have moderate positive correlations with `currentprice`, suggesting that as these variables increase, the currentprice tends to increase as well, but the relationship is not strong."
   ]
  },
  {
   "cell_type": "code",
   "execution_count": null,
   "metadata": {},
   "outputs": [],
   "source": [
    "num_corr = num.corr()\n",
    "num_corr"
   ]
  },
  {
   "cell_type": "code",
   "execution_count": null,
   "metadata": {},
   "outputs": [],
   "source": [
    "# Correlation Matrix-Heatmap Plot\n",
    "mask = np.zeros_like(num_corr)\n",
    "mask[np.triu_indices_from(mask)] = True \n",
    "f, ax = plt.subplots(figsize=(20, 10))\n",
    "sns.set(font_scale=1.5)\n",
    "\n",
    "ax = sns.heatmap(num_corr, mask=mask, annot=True, annot_kws={\"size\": 12}, linewidths=.5, cmap=\"BuPu\", fmt=\".2f\", ax=ax) # round to 2 decimal places\n",
    "ax.set_title(\"Correlation Heatmap\", fontsize=20) "
   ]
  },
  {
   "cell_type": "markdown",
   "metadata": {},
   "source": [
    "<h3 style=\"color: #4682B4;\">3.6 | Hypothesis Testing </h3>"
   ]
  },
  {
   "cell_type": "markdown",
   "metadata": {},
   "source": [
    "<h4 style=\"color: #D2691E;\"> 3.6.1 | Hypothesis 1 </h4>"
   ]
  },
  {
   "cell_type": "markdown",
   "metadata": {},
   "source": [
    "We will use **one-way ANOVA** to determine if there is a statistically significant difference in **revenue growth** based on the **sector**.\n",
    "\n",
    "#### Define Hypotheses\n",
    "- **Null Hypothesis (H₀)**: There is no significant difference in the mean **revenue growth** between these five different sectors:\n",
    "    - **Technology**\n",
    "    - **Industrials**\n",
    "    - **Finance Services** \n",
    "    - **Healthcare**\n",
    "    - **Consumer Cyclical**\n",
    "- **Alternative Hypothesis (H₁)**: There is a significant difference between these different sectors in the mean **revenue growth**. "
   ]
  },
  {
   "cell_type": "code",
   "execution_count": null,
   "metadata": {},
   "outputs": [],
   "source": [
    "# Extract revenuegrowth by sector.\n",
    "tech_df = definitive[definitive['sector'] == 'Technology']['revenuegrowth']\n",
    "indus_df = definitive[definitive['sector'] == 'Industrials']['revenuegrowth']\n",
    "fin_df = definitive[definitive['sector'] == 'Financial Services']['revenuegrowth']\n",
    "health_df = definitive[definitive['sector'] == 'Healthcare']['revenuegrowth']\n",
    "consumer_df = definitive[definitive['sector'] == 'Consumer Cyclical']['revenuegrowth']"
   ]
  },
  {
   "cell_type": "code",
   "execution_count": null,
   "metadata": {},
   "outputs": [],
   "source": [
    "# Perform One-Way ANOVA\n",
    "f_stat, p_value = st.f_oneway(tech_df, indus_df, fin_df, health_df, consumer_df)\n",
    "print(f\"F-Statistic: {f_stat:.2f}\")\n",
    "print(f\"P-Value: {p_value:.4f}\") \n",
    "print()\n",
    "\n",
    "# Significance level\n",
    "alpha = 0.05\n",
    "\n",
    "# Decision-Making\n",
    "if p_value > alpha:\n",
    "    print(\"Fail to Reject the Null Hypothesis: revenuegrowth has no significant difference between sectors.\")\n",
    "else:\n",
    "    print(\"Reject the Null Hypothesis: There is a significant difference in revenuegrowth between the sectors.\")"
   ]
  },
  {
   "cell_type": "markdown",
   "metadata": {},
   "source": [
    "**Observations** \n",
    "\n",
    "The ANOVA test results indicate that while the mean revenue growth differs across sectors these differences are not statistically significant at the alpha. "
   ]
  },
  {
   "cell_type": "markdown",
   "metadata": {},
   "source": [
    "<h4 style=\"color: #D2691E;\"> 3.6.2 | Hypothesis 2 </h4>"
   ]
  },
  {
   "cell_type": "markdown",
   "metadata": {},
   "source": [
    "**Has price a significant difference depending on the sector?**\n",
    "\n",
    "- Null Hypothesis (H₀): There is **no** significant difference in the mean **price** between different sectors.\n",
    "- Alternative Hypothesis (H₁): There is significant difference in the mean **price** between different sectors."
   ]
  },
  {
   "cell_type": "code",
   "execution_count": null,
   "metadata": {},
   "outputs": [],
   "source": [
    "# Extract currentprice by sector.\n",
    "tech_df2 = definitive[definitive['sector'] == 'Technology']['currentprice']\n",
    "indus_df2 = definitive[definitive['sector'] == 'Industrials']['currentprice']\n",
    "fin_df2 = definitive[definitive['sector'] == 'Financial Services']['currentprice']\n",
    "health_df2 = definitive[definitive['sector'] == 'Healthcare']['currentprice']\n",
    "consumer_df2 = definitive[definitive['sector'] == 'Consumer Cyclical']['currentprice']"
   ]
  },
  {
   "cell_type": "code",
   "execution_count": null,
   "metadata": {},
   "outputs": [],
   "source": [
    "print(tech_df2.mean())\n",
    "print(indus_df2.mean())\n",
    "print(fin_df2.mean())\n",
    "print(health_df2.mean())\n",
    "print(consumer_df2.mean())"
   ]
  },
  {
   "cell_type": "code",
   "execution_count": null,
   "metadata": {},
   "outputs": [],
   "source": [
    "# Perform One-Way ANOVA\n",
    "f_stat, p_value = st.f_oneway(tech_df2, indus_df2, fin_df2, health_df2, consumer_df2)\n",
    "print(f\"F-Statistic: {f_stat:.2f}\")\n",
    "print(f\"P-Value: {p_value:.4f}\") \n",
    "print()\n",
    "\n",
    "# Significance level\n",
    "alpha = 0.05\n",
    "\n",
    "# Decision-Making\n",
    "if p_value > alpha:\n",
    "    print(\"Fail to Reject the Null Hypothesis: Price has no significant difference between sectors.\")\n",
    "else:\n",
    "    print(\"Reject the Null Hypothesis: There is a significant difference in price between the sectors.\")"
   ]
  },
  {
   "cell_type": "markdown",
   "metadata": {},
   "source": [
    "**Observations** \n",
    "\n",
    "The ANOVA test indicates that while the mean current prices differ across the five sectors these differences are not statistically significant. The data doesn't provide strong enough evidence to suggest that sector has a meaningful effect on the differences in current prices. "
   ]
  },
  {
   "cell_type": "code",
   "execution_count": null,
   "metadata": {},
   "outputs": [],
   "source": [
    "definitive"
   ]
  },
  {
   "cell_type": "code",
   "execution_count": null,
   "metadata": {},
   "outputs": [],
   "source": [
    "yahoo_df = pd.read_csv(\"yahoo_api.csv\")"
   ]
  },
  {
   "cell_type": "code",
   "execution_count": null,
   "metadata": {},
   "outputs": [],
   "source": [
    "yahoo_df"
   ]
  },
  {
   "cell_type": "code",
   "execution_count": null,
   "metadata": {},
   "outputs": [],
   "source": [
    "df1 = pd.merge(definitive, yahoo_df, on='symbol')"
   ]
  },
  {
   "cell_type": "code",
   "execution_count": null,
   "metadata": {},
   "outputs": [],
   "source": [
    "# If I run inner join we do have left 178 stocks. \n",
    "df1"
   ]
  },
  {
   "cell_type": "code",
   "execution_count": null,
   "metadata": {},
   "outputs": [],
   "source": [
    "df2 = pd.merge(definitive, yahoo_df, on='symbol', how='outer')"
   ]
  },
  {
   "cell_type": "code",
   "execution_count": null,
   "metadata": {},
   "outputs": [],
   "source": [
    "# If I do have outer join I do have left 825 stocks. \n",
    "df2"
   ]
  },
  {
   "cell_type": "code",
   "execution_count": null,
   "metadata": {},
   "outputs": [],
   "source": [
    "df2.sample(10)"
   ]
  },
  {
   "cell_type": "code",
   "execution_count": null,
   "metadata": {},
   "outputs": [],
   "source": [
    "# Selecting categorical columns. \n",
    "cat1 = df2.select_dtypes(exclude='number')\n",
    "cat1.head(5)"
   ]
  },
  {
   "cell_type": "code",
   "execution_count": null,
   "metadata": {},
   "outputs": [],
   "source": [
    "# Selecting categorical columns. \n",
    "num1 = df2.select_dtypes(include='number')\n",
    "num1.head(5)"
   ]
  },
  {
   "cell_type": "code",
   "execution_count": null,
   "metadata": {},
   "outputs": [],
   "source": [
    "num_corr2 = num1.corr()\n",
    "num_corr2"
   ]
  },
  {
   "cell_type": "code",
   "execution_count": null,
   "metadata": {},
   "outputs": [],
   "source": [
    "# Correlation Matrix-Heatmap Plot\n",
    "mask = np.zeros_like(num_corr2)\n",
    "mask[np.triu_indices_from(mask)] = True \n",
    "f, ax = plt.subplots(figsize=(20, 10))\n",
    "sns.set(font_scale=1.5)\n",
    "\n",
    "ax = sns.heatmap(num_corr2, mask=mask, annot=True, annot_kws={\"size\": 12}, linewidths=.5, cmap=\"BuPu\", fmt=\".2f\", ax=ax) # round to 2 decimal places\n",
    "ax.set_title(\"Correlation Heatmap\", fontsize=20) "
   ]
  },
  {
   "cell_type": "code",
   "execution_count": null,
   "metadata": {},
   "outputs": [],
   "source": [
    "pd.set_option('display.max_columns', None)"
   ]
  },
  {
   "cell_type": "code",
   "execution_count": null,
   "metadata": {},
   "outputs": [],
   "source": [
    "df2"
   ]
  },
  {
   "cell_type": "code",
   "execution_count": null,
   "metadata": {},
   "outputs": [],
   "source": [
    "df2.isna().sum()"
   ]
  }
 ],
 "metadata": {
  "kernelspec": {
   "display_name": "streamlit-stock",
   "language": "python",
   "name": "python3"
  },
  "language_info": {
   "codemirror_mode": {
    "name": "ipython",
    "version": 3
   },
   "file_extension": ".py",
   "mimetype": "text/x-python",
   "name": "python",
   "nbconvert_exporter": "python",
   "pygments_lexer": "ipython3",
   "version": "3.12.9"
  }
 },
 "nbformat": 4,
 "nbformat_minor": 2
}
