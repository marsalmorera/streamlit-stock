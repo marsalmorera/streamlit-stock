{
 "cells": [
  {
   "cell_type": "code",
   "execution_count": 1,
   "metadata": {},
   "outputs": [],
   "source": [
    "import pandas as pd"
   ]
  },
  {
   "cell_type": "code",
   "execution_count": 2,
   "metadata": {},
   "outputs": [],
   "source": [
    "def load_prices ():\n",
    "    prices_df = pd.read_csv('plan_yahoo/historical_prices_final.csv')\n",
    "    prices_df.drop(columns='Unnamed: 0', inplace=True)\n",
    "    prices_df['timestamps'] = pd.to_datetime(prices_df['timestamps']).dt.normalize()\n",
    "    return prices_df"
   ]
  },
  {
   "cell_type": "code",
   "execution_count": null,
   "metadata": {},
   "outputs": [],
   "source": [
    "def load_average_return ():\n",
    "    df = pd.read_csv('plan_kaggle/sp500_stocks.csv')\n",
    "    sp = pd.read_csv('plan_kaggle/sp500_index.csv')\n",
    "\n",
    "    # Cleaning columns with snake_case \n",
    "    df.columns = [col.lower().replace(\" \", \"_\")for col in df.columns] \n",
    "    sp.columns = [col.lower().replace(\" \", \"_\")for col in sp.columns]\n",
    "\n",
    "    # Delete NaN.\n",
    "    df.dropna(how='any', inplace=True)\n",
    "    df.drop(columns=['high', 'low', 'open','close','volume'], inplace=True)\n",
    "\n",
    "    # Change to datetime from stocks. \n",
    "    df['date'] = pd.to_datetime(df['date']) \n",
    "    sp['date'] = pd.to_datetime(sp['date'])\n",
    "\n",
    "    sp['symbol'] = \"SP500\"\n",
    "    \n",
    "    sp.rename(columns={'s&p500':'price',}, inplace=True)\n",
    "    df.rename(columns={'adj_close':'price',}, inplace=True)\n",
    "\n",
    "    cols = ['date', 'symbol', 'price']\n",
    "    sp = sp[cols]\n",
    "\n",
    "    final_df = pd.concat([df, sp], axis=0)\n",
    "\n",
    "    final_df['year'] = final_df['date'].dt.year\n",
    "    final_df['month'] = final_df['date'].dt.month\n",
    "    final_df['day'] = final_df['date'].dt.day\n",
    "\n",
    "    final_df.drop(final_df[(final_df['year'] >= 2010) & (final_df['year'] <= 2013)].index, inplace=True)\n",
    "\n",
    "    final_df.drop(columns=['date'], inplace=True)\n",
    "\n",
    "    filtered_data = final_df[(final_df['year'] >= 2014) & (final_df['year'] <= 2024)]\n",
    "\n",
    "    # Get the first and last adjusted close prices for each symbol\n",
    "    first_last_prices = filtered_data.groupby('symbol').agg(\n",
    "        first_price=('price', 'first'),\n",
    "        last_price=('price', 'last')).reset_index()\n",
    "\n",
    "    # Calculate the annual return from the first and last prices\n",
    "    first_last_prices['average_return'] = (first_last_prices['last_price'] / first_last_prices['first_price']) - 1\n",
    "    return first_last_prices"
   ]
  },
  {
   "cell_type": "code",
   "execution_count": null,
   "metadata": {},
   "outputs": [],
   "source": []
  }
 ],
 "metadata": {
  "kernelspec": {
   "display_name": "streamlit-stock",
   "language": "python",
   "name": "python3"
  },
  "language_info": {
   "codemirror_mode": {
    "name": "ipython",
    "version": 3
   },
   "file_extension": ".py",
   "mimetype": "text/x-python",
   "name": "python",
   "nbconvert_exporter": "python",
   "pygments_lexer": "ipython3",
   "version": "3.12.9"
  }
 },
 "nbformat": 4,
 "nbformat_minor": 2
}
